{
 "cells": [
  {
   "cell_type": "code",
   "execution_count": 20,
   "metadata": {},
   "outputs": [],
   "source": [
    "import nltk\n",
    "from pprint import pprint\n",
    "from operator import itemgetter\n",
    "from nltk.corpus import framenet as fn\n",
    "from nltk.corpus.reader.framenet import PrettyList"
   ]
  },
  {
   "cell_type": "markdown",
   "metadata": {},
   "source": [
    "#### POS\n",
    "Fine-grained but not meaningful."
   ]
  },
  {
   "cell_type": "code",
   "execution_count": 2,
   "metadata": {},
   "outputs": [
    {
     "data": {
      "text/plain": [
       "[('The', 'DT'),\n",
       " ('cat', 'NN'),\n",
       " ('sat', 'VBD'),\n",
       " ('on', 'IN'),\n",
       " ('the', 'DT'),\n",
       " ('mat', 'NN'),\n",
       " ('.', '.')]"
      ]
     },
     "execution_count": 2,
     "metadata": {},
     "output_type": "execute_result"
    }
   ],
   "source": [
    "# Define a sentence\n",
    "sentence = \"The cat sat on the mat.\"\n",
    "\n",
    "# Tokenize the sentence\n",
    "tokens = nltk.word_tokenize(sentence)\n",
    "\n",
    "# Tag the tokens with part-of-speech (POS) tags\n",
    "pos_tags = nltk.pos_tag(tokens)\n",
    "\n",
    "# Display the POS tags\n",
    "pos_tags"
   ]
  },
  {
   "cell_type": "markdown",
   "metadata": {},
   "source": [
    "#### Frames\n",
    "Yes:)"
   ]
  },
  {
   "cell_type": "code",
   "execution_count": 3,
   "metadata": {},
   "outputs": [
    {
     "data": {
      "text/plain": [
       "[<frame ID=200 name=Criminal_process>, <frame ID=500 name=Criminal_investigation>, ...]"
      ]
     },
     "execution_count": 3,
     "metadata": {},
     "output_type": "execute_result"
    }
   ],
   "source": [
    "x = fn.frames(r'(?i)crim')\n",
    "x.sort(key=itemgetter('ID'))\n",
    "x"
   ]
  },
  {
   "cell_type": "code",
   "execution_count": 4,
   "metadata": {},
   "outputs": [
    {
     "data": {
      "text/plain": [
       "[<frame ID=2031 name=Abandonment>, <frame ID=262 name=Abounding_with>, ...]"
      ]
     },
     "execution_count": 4,
     "metadata": {},
     "output_type": "execute_result"
    }
   ],
   "source": [
    "fn.frames()"
   ]
  },
  {
   "cell_type": "markdown",
   "metadata": {},
   "source": [
    "# Frame Semantic Transformer (2023)"
   ]
  },
  {
   "cell_type": "code",
   "execution_count": 1,
   "metadata": {},
   "outputs": [],
   "source": [
    "from frame_semantic_transformer import FrameSemanticTransformer"
   ]
  },
  {
   "cell_type": "code",
   "execution_count": 2,
   "metadata": {},
   "outputs": [],
   "source": [
    "frame_transformer = FrameSemanticTransformer()"
   ]
  },
  {
   "cell_type": "code",
   "execution_count": 15,
   "metadata": {},
   "outputs": [],
   "source": [
    "def print_frame_result(results):\n",
    "    \"\"\"\n",
    "    Format output of frame result.\n",
    "    \"\"\"\n",
    "    print(f\"Results found in: {results.sentence}\")\n",
    "\n",
    "    for frame in results.frames:\n",
    "        print(f\"FRAME: {frame.name}\")\n",
    "        for element in frame.frame_elements:\n",
    "            print(f\"{element.name}: {element.text}\")"
   ]
  },
  {
   "cell_type": "code",
   "execution_count": 29,
   "metadata": {},
   "outputs": [],
   "source": [
    "sentence = \"The hallway smelt of boiled cabbage and old rag mats.\"\n",
    "results = frame_transformer.detect_frames(sentence)"
   ]
  },
  {
   "cell_type": "code",
   "execution_count": 30,
   "metadata": {},
   "outputs": [
    {
     "name": "stdout",
     "output_type": "stream",
     "text": [
      "Results found in: The hallway smelt of boiled cabbage and old rag mats.\n",
      "FRAME: Connecting_architecture\n",
      "Part: hallway\n",
      "FRAME: Give_impression\n",
      "Phenomenon: The hallway\n",
      "Characterization: of boiled cabbage and old rag mats\n",
      "FRAME: Apply_heat\n",
      "Food: cabbage\n",
      "FRAME: Food\n",
      "Food: cabbage\n",
      "FRAME: Age\n",
      "Entity: rag mats\n"
     ]
    }
   ],
   "source": [
    "print_frame_result(results)"
   ]
  },
  {
   "cell_type": "code",
   "execution_count": 31,
   "metadata": {},
   "outputs": [
    {
     "name": "stdout",
     "output_type": "stream",
     "text": [
      "Connecting_architecture\n",
      "Give_impression\n",
      "Apply_heat\n",
      "Food\n",
      "Age\n"
     ]
    }
   ],
   "source": [
    "# Just print frame names\n",
    "for frame in results.frames:\n",
    "    print(frame.name)"
   ]
  },
  {
   "cell_type": "code",
   "execution_count": 17,
   "metadata": {},
   "outputs": [
    {
     "name": "stdout",
     "output_type": "stream",
     "text": [
      "Results found in: Each of us was subjected to a full body search and stripped of all valuables, two layers of underwear, and all our luggage and papers.\n",
      "FRAME: Body_parts\n",
      "Body_part: body\n",
      "FRAME: Measure_duration\n",
      "Count: two\n",
      "Unit: layers\n",
      "Process: of underwear\n",
      "FRAME: Documents\n",
      "Bearer: our\n",
      "Document: papers\n"
     ]
    }
   ],
   "source": [
    "# Apply to a sentence relevant to my corpus\n",
    "sentence = \"Each of us was subjected to a full body search and stripped of all valuables, two layers of underwear, and all our luggage and papers.\"\n",
    "results = frame_transformer.detect_frames(sentence)\n",
    "print_frame_result(results)"
   ]
  },
  {
   "cell_type": "code",
   "execution_count": 18,
   "metadata": {},
   "outputs": [
    {
     "name": "stdout",
     "output_type": "stream",
     "text": [
      "Results found in: This early approach gave those who had not been on the scene an inside look into what actually happened during the Holocaust.\n",
      "FRAME: Relative_time\n",
      "Focal_occasion: approach\n",
      "FRAME: Means\n",
      "Descriptor: early\n",
      "FRAME: Giving\n",
      "Donor: This early approach\n",
      "Recipient: those who had not been on the scene\n",
      "Theme: an inside look into what actually happened during the Holocaust\n",
      "FRAME: Perception_active\n",
      "Depictive: inside\n",
      "Phenomenon: into what actually happened during the Holocaust\n",
      "FRAME: Event\n",
      "Event: what\n",
      "Time: during the Holocaust\n"
     ]
    }
   ],
   "source": [
    "sentence = \"This early approach gave those who had not been on the scene an inside look into what actually happened during the Holocaust.\"\n",
    "results = frame_transformer.detect_frames(sentence)\n",
    "print_frame_result(results)"
   ]
  },
  {
   "cell_type": "markdown",
   "metadata": {},
   "source": [
    "These are interesting Frames, perhaps more distinctive to this Abstracts corpus:\n",
    "* Relative_time\n",
    "* Giving\n",
    "* Perception_active (! - expected but still cool)\n",
    "* Event"
   ]
  },
  {
   "cell_type": "code",
   "execution_count": 21,
   "metadata": {},
   "outputs": [
    {
     "data": {
      "text/plain": [
       "[<frame ID=66 name=Perception_active>]"
      ]
     },
     "execution_count": 21,
     "metadata": {},
     "output_type": "execute_result"
    }
   ],
   "source": [
    "x = fn.frames(r'Perception_active')\n",
    "x.sort(key=itemgetter('ID'))\n",
    "x"
   ]
  },
  {
   "cell_type": "code",
   "execution_count": 24,
   "metadata": {},
   "outputs": [
    {
     "name": "stdout",
     "output_type": "stream",
     "text": [
      "Perceiver_agentive\n",
      "Phenomenon\n",
      "Body_part\n",
      "Location_of_protagonist\n",
      "Direction\n",
      "Depictive\n",
      "State\n",
      "Manner\n",
      "Means\n",
      "Time\n",
      "Purpose\n",
      "Place\n",
      "Duration\n",
      "Expected_entity\n",
      "Ground\n",
      "Obscuring_medium\n"
     ]
    }
   ],
   "source": [
    "frame_look = fn.frame(66)\n",
    "for fe in frame_look.FE:\n",
    "    print(fe)"
   ]
  },
  {
   "cell_type": "code",
   "execution_count": 25,
   "metadata": {},
   "outputs": [
    {
     "name": "stdout",
     "output_type": "stream",
     "text": [
      "Results found in: Diagnosis and Phase-Oriented Treatment of Post-Traumatic Stress Disorder.\n",
      "FRAME: Cure\n",
      "Affliction: of Post-Traumatic Stress Disorder\n",
      "FRAME: Cure\n",
      "Affliction: of Post-Traumatic Stress Disorder\n"
     ]
    }
   ],
   "source": [
    "sentence = \"Diagnosis and Phase-Oriented Treatment of Post-Traumatic Stress Disorder.\"\n",
    "results = frame_transformer.detect_frames(sentence)\n",
    "print_frame_result(results)"
   ]
  },
  {
   "cell_type": "markdown",
   "metadata": {},
   "source": [
    "### Apply FST for Corpuses\n",
    "\n",
    "#### <font color=\"salmon\"> Process:\n",
    "1. Tokenize ALL DOCUMENTS to sentence level\n",
    "2. Test batch transformation\n",
    "3. Detect frames\n",
    "    * append all frame.names to a list\n",
    "    * append list to df cell\n",
    "4. Pick out most salient themes...if necessary (don't remove dupes)\n",
    "5. Visualize:\n",
    "    * By grouping - scatterplot\n",
    "    * Frequency (compare 2 corpus)\n",
    "\n",
    "#### Resulting DF Desired (columns):\n",
    "* ID\n",
    "* text\n",
    "* embedding\n",
    "* list of Frames\n",
    "* list of salient frames"
   ]
  },
  {
   "cell_type": "markdown",
   "metadata": {},
   "source": [
    "#### 0. Prepare data"
   ]
  },
  {
   "cell_type": "code",
   "execution_count": 56,
   "metadata": {},
   "outputs": [],
   "source": [
    "import pandas as pd"
   ]
  },
  {
   "cell_type": "code",
   "execution_count": 34,
   "metadata": {},
   "outputs": [],
   "source": [
    "abstracts = pd.read_csv(\"/Users/ez/desktop/text_memory_and_identity/data/abstracts.csv\", index_col=0)\n",
    "eyewitness = pd.read_csv(\"/Users/ez/desktop/text_memory_and_identity/data/eyewitness.csv\", index_col=0)"
   ]
  },
  {
   "cell_type": "code",
   "execution_count": 38,
   "metadata": {},
   "outputs": [],
   "source": [
    "eyewitness = eyewitness.loc[:, ['Index Number', 'Text', 'embedding']]"
   ]
  },
  {
   "cell_type": "code",
   "execution_count": 39,
   "metadata": {},
   "outputs": [
    {
     "data": {
      "text/html": [
       "<div>\n",
       "<style scoped>\n",
       "    .dataframe tbody tr th:only-of-type {\n",
       "        vertical-align: middle;\n",
       "    }\n",
       "\n",
       "    .dataframe tbody tr th {\n",
       "        vertical-align: top;\n",
       "    }\n",
       "\n",
       "    .dataframe thead th {\n",
       "        text-align: right;\n",
       "    }\n",
       "</style>\n",
       "<table border=\"1\" class=\"dataframe\">\n",
       "  <thead>\n",
       "    <tr style=\"text-align: right;\">\n",
       "      <th></th>\n",
       "      <th>Index Number</th>\n",
       "      <th>Text</th>\n",
       "      <th>embedding</th>\n",
       "    </tr>\n",
       "  </thead>\n",
       "  <tbody>\n",
       "    <tr>\n",
       "      <th>0</th>\n",
       "      <td>P.I.a. No. 62</td>\n",
       "      <td>The Jews in Pomerania I, Dr. Ernst Alban, here...</td>\n",
       "      <td>[-0.01598668470978737, 0.03931468725204468, 0....</td>\n",
       "    </tr>\n",
       "    <tr>\n",
       "      <th>1</th>\n",
       "      <td>P.I.a. No. 115</td>\n",
       "      <td>Reminiscences Regarding the Youth of Dr. Josep...</td>\n",
       "      <td>[0.0071619655936956406, 0.022604744881391525, ...</td>\n",
       "    </tr>\n",
       "    <tr>\n",
       "      <th>2</th>\n",
       "      <td>P.I.a. No. 317</td>\n",
       "      <td>Extracts from a letter from Ernest Weil to Rob...</td>\n",
       "      <td>[-0.04701196402311325, 0.025713954120874405, 0...</td>\n",
       "    </tr>\n",
       "  </tbody>\n",
       "</table>\n",
       "</div>"
      ],
      "text/plain": [
       "     Index Number                                               Text  \\\n",
       "0   P.I.a. No. 62  The Jews in Pomerania I, Dr. Ernst Alban, here...   \n",
       "1  P.I.a. No. 115  Reminiscences Regarding the Youth of Dr. Josep...   \n",
       "2  P.I.a. No. 317  Extracts from a letter from Ernest Weil to Rob...   \n",
       "\n",
       "                                           embedding  \n",
       "0  [-0.01598668470978737, 0.03931468725204468, 0....  \n",
       "1  [0.0071619655936956406, 0.022604744881391525, ...  \n",
       "2  [-0.04701196402311325, 0.025713954120874405, 0...  "
      ]
     },
     "execution_count": 39,
     "metadata": {},
     "output_type": "execute_result"
    }
   ],
   "source": [
    "eyewitness[:3]"
   ]
  },
  {
   "cell_type": "code",
   "execution_count": 40,
   "metadata": {},
   "outputs": [
    {
     "data": {
      "text/html": [
       "<div>\n",
       "<style scoped>\n",
       "    .dataframe tbody tr th:only-of-type {\n",
       "        vertical-align: middle;\n",
       "    }\n",
       "\n",
       "    .dataframe tbody tr th {\n",
       "        vertical-align: top;\n",
       "    }\n",
       "\n",
       "    .dataframe thead th {\n",
       "        text-align: right;\n",
       "    }\n",
       "</style>\n",
       "<table border=\"1\" class=\"dataframe\">\n",
       "  <thead>\n",
       "    <tr style=\"text-align: right;\">\n",
       "      <th></th>\n",
       "      <th>paper_ID</th>\n",
       "      <th>abstract</th>\n",
       "      <th>embedding</th>\n",
       "    </tr>\n",
       "  </thead>\n",
       "  <tbody>\n",
       "    <tr>\n",
       "      <th>0</th>\n",
       "      <td>329f5441ffcbdc970ea5868ad27aae13c212ea08</td>\n",
       "      <td>In April 1983, the first American Gathering of...</td>\n",
       "      <td>[0.025907130911946297, 0.012855629436671734, 0...</td>\n",
       "    </tr>\n",
       "    <tr>\n",
       "      <th>1</th>\n",
       "      <td>4cf5d504f0ccca7da2a65900d2c48f5a1b99f620</td>\n",
       "      <td>Deviating from foundational assumptions regard...</td>\n",
       "      <td>[0.05267952382564545, 0.08909037709236145, -0....</td>\n",
       "    </tr>\n",
       "  </tbody>\n",
       "</table>\n",
       "</div>"
      ],
      "text/plain": [
       "                                   paper_ID  \\\n",
       "0  329f5441ffcbdc970ea5868ad27aae13c212ea08   \n",
       "1  4cf5d504f0ccca7da2a65900d2c48f5a1b99f620   \n",
       "\n",
       "                                            abstract  \\\n",
       "0  In April 1983, the first American Gathering of...   \n",
       "1  Deviating from foundational assumptions regard...   \n",
       "\n",
       "                                           embedding  \n",
       "0  [0.025907130911946297, 0.012855629436671734, 0...  \n",
       "1  [0.05267952382564545, 0.08909037709236145, -0....  "
      ]
     },
     "execution_count": 40,
     "metadata": {},
     "output_type": "execute_result"
    }
   ],
   "source": [
    "abstracts[:2]"
   ]
  },
  {
   "cell_type": "code",
   "execution_count": 42,
   "metadata": {},
   "outputs": [],
   "source": [
    "abstracts.rename(columns={'paper_ID': 'id', 'abstract': 'text'}, inplace=True)\n",
    "eyewitness.rename(columns={'Index Number': 'id', 'Text': 'text'}, inplace=True)"
   ]
  },
  {
   "cell_type": "code",
   "execution_count": 51,
   "metadata": {},
   "outputs": [],
   "source": [
    "merged_df = pd.concat([abstracts, eyewitness])\n",
    "merged_df.reset_index(inplace=True, drop=True)"
   ]
  },
  {
   "cell_type": "markdown",
   "metadata": {},
   "source": [
    "#### 1. Tokenize ALL DOCUMENTS to sentence lvl\n",
    "\n",
    "* Iterate through TEXT col, create sentence tokens\n",
    "* Test out bulk frame detection & determine batch size"
   ]
  },
  {
   "cell_type": "markdown",
   "metadata": {},
   "source": [
    "**Tokenize**"
   ]
  },
  {
   "cell_type": "code",
   "execution_count": 89,
   "metadata": {},
   "outputs": [],
   "source": [
    "import nltk\n",
    "import random"
   ]
  },
  {
   "cell_type": "code",
   "execution_count": 55,
   "metadata": {},
   "outputs": [
    {
     "data": {
      "text/html": [
       "<div>\n",
       "<style scoped>\n",
       "    .dataframe tbody tr th:only-of-type {\n",
       "        vertical-align: middle;\n",
       "    }\n",
       "\n",
       "    .dataframe tbody tr th {\n",
       "        vertical-align: top;\n",
       "    }\n",
       "\n",
       "    .dataframe thead th {\n",
       "        text-align: right;\n",
       "    }\n",
       "</style>\n",
       "<table border=\"1\" class=\"dataframe\">\n",
       "  <thead>\n",
       "    <tr style=\"text-align: right;\">\n",
       "      <th></th>\n",
       "      <th>id</th>\n",
       "      <th>text</th>\n",
       "      <th>embedding</th>\n",
       "    </tr>\n",
       "  </thead>\n",
       "  <tbody>\n",
       "    <tr>\n",
       "      <th>0</th>\n",
       "      <td>329f5441ffcbdc970ea5868ad27aae13c212ea08</td>\n",
       "      <td>In April 1983, the first American Gathering of...</td>\n",
       "      <td>[0.025907130911946297, 0.012855629436671734, 0...</td>\n",
       "    </tr>\n",
       "  </tbody>\n",
       "</table>\n",
       "</div>"
      ],
      "text/plain": [
       "                                         id  \\\n",
       "0  329f5441ffcbdc970ea5868ad27aae13c212ea08   \n",
       "\n",
       "                                                text  \\\n",
       "0  In April 1983, the first American Gathering of...   \n",
       "\n",
       "                                           embedding  \n",
       "0  [0.025907130911946297, 0.012855629436671734, 0...  "
      ]
     },
     "execution_count": 55,
     "metadata": {},
     "output_type": "execute_result"
    }
   ],
   "source": [
    "merged_df[:1]"
   ]
  },
  {
   "cell_type": "code",
   "execution_count": 58,
   "metadata": {},
   "outputs": [],
   "source": [
    "# Split text into sentences and create new rows\n",
    "merged_df['sents_token'] = merged_df['text'].apply(lambda x: nltk.sent_tokenize(x))"
   ]
  },
  {
   "cell_type": "markdown",
   "metadata": {},
   "source": [
    "**Frame Detection!! - Preprocessing**"
   ]
  },
  {
   "cell_type": "code",
   "execution_count": 80,
   "metadata": {},
   "outputs": [],
   "source": [
    "# Initiate frame transformer object\n",
    "frame_transformer = FrameSemanticTransformer(batch_size=3)"
   ]
  },
  {
   "cell_type": "code",
   "execution_count": null,
   "metadata": {},
   "outputs": [],
   "source": [
    "# for cell in sample['sents_token']:\n",
    "#     for sent in cell:\n",
    "#         result = frame_transformer.detect_frames(sent)\n",
    "#         for frame in result.frames:\n",
    "#             print(frame.name)"
   ]
  },
  {
   "cell_type": "markdown",
   "metadata": {},
   "source": [
    "Next steps:\n",
    "* Take random subset of 350 docs for each corpus type\n",
    "* Take 3 random sentences for each doc (or less/n if there aren't 3 sentences)\n",
    "* Apply frame transformer. Use BULK and set batch_size = 3 "
   ]
  },
  {
   "cell_type": "code",
   "execution_count": 92,
   "metadata": {},
   "outputs": [],
   "source": [
    "abstracts_subset = abstracts.sample(n=350, random_state=42)\n",
    "eyewitness_subset = eyewitness.sample(n=350, random_state=42)\n",
    "\n",
    "merged_df = pd.concat([abstracts_subset, eyewitness_subset])\n",
    "merged_df.reset_index(inplace=True, drop=True)\n",
    "\n",
    "# Split text into sentences and create new rows\n",
    "merged_df['sents_token'] = merged_df['text'].apply(lambda x: nltk.sent_tokenize(x))"
   ]
  },
  {
   "cell_type": "code",
   "execution_count": 94,
   "metadata": {},
   "outputs": [
    {
     "data": {
      "text/html": [
       "<div>\n",
       "<style scoped>\n",
       "    .dataframe tbody tr th:only-of-type {\n",
       "        vertical-align: middle;\n",
       "    }\n",
       "\n",
       "    .dataframe tbody tr th {\n",
       "        vertical-align: top;\n",
       "    }\n",
       "\n",
       "    .dataframe thead th {\n",
       "        text-align: right;\n",
       "    }\n",
       "</style>\n",
       "<table border=\"1\" class=\"dataframe\">\n",
       "  <thead>\n",
       "    <tr style=\"text-align: right;\">\n",
       "      <th></th>\n",
       "      <th>id</th>\n",
       "      <th>text</th>\n",
       "      <th>embedding</th>\n",
       "      <th>sents_token</th>\n",
       "    </tr>\n",
       "  </thead>\n",
       "  <tbody>\n",
       "    <tr>\n",
       "      <th>0</th>\n",
       "      <td>03299a0bcddf7cec7bb8587c87af598a30cf6f24</td>\n",
       "      <td>Marceline Loridan-Ivens may be best known for ...</td>\n",
       "      <td>[0.0129690608009696, 0.04015115275979042, -0.0...</td>\n",
       "      <td>[Marceline Loridan-Ivens may be best known for...</td>\n",
       "    </tr>\n",
       "    <tr>\n",
       "      <th>1</th>\n",
       "      <td>adb692013a60e1a7eb79ca4759e92fd5245a4f2d</td>\n",
       "      <td>How do extraordinary experiences, especially d...</td>\n",
       "      <td>[-0.01149928942322731, 0.04745658487081528, -0...</td>\n",
       "      <td>[How do extraordinary experiences, especially ...</td>\n",
       "    </tr>\n",
       "  </tbody>\n",
       "</table>\n",
       "</div>"
      ],
      "text/plain": [
       "                                         id  \\\n",
       "0  03299a0bcddf7cec7bb8587c87af598a30cf6f24   \n",
       "1  adb692013a60e1a7eb79ca4759e92fd5245a4f2d   \n",
       "\n",
       "                                                text  \\\n",
       "0  Marceline Loridan-Ivens may be best known for ...   \n",
       "1  How do extraordinary experiences, especially d...   \n",
       "\n",
       "                                           embedding  \\\n",
       "0  [0.0129690608009696, 0.04015115275979042, -0.0...   \n",
       "1  [-0.01149928942322731, 0.04745658487081528, -0...   \n",
       "\n",
       "                                         sents_token  \n",
       "0  [Marceline Loridan-Ivens may be best known for...  \n",
       "1  [How do extraordinary experiences, especially ...  "
      ]
     },
     "execution_count": 94,
     "metadata": {},
     "output_type": "execute_result"
    }
   ],
   "source": [
    "merged_df[:2]"
   ]
  },
  {
   "cell_type": "code",
   "execution_count": 101,
   "metadata": {},
   "outputs": [],
   "source": [
    "# Take random sample of sentence tokens from the DF\n",
    "\n",
    "# Specify size\n",
    "sample_size = 3\n",
    "\n",
    "# Function to take a random sample of sentences and return as a list\n",
    "def sample_sentences(sentence_list):\n",
    "    return random.sample(sentence_list, min(len(sentence_list), sample_size))"
   ]
  },
  {
   "cell_type": "code",
   "execution_count": 102,
   "metadata": {},
   "outputs": [],
   "source": [
    "# Apply the function to each cell in the 'sents_token' column\n",
    "merged_df['sents_sample'] = merged_df['sents_token'].apply(lambda x: sample_sentences(x))"
   ]
  },
  {
   "cell_type": "markdown",
   "metadata": {},
   "source": [
    "**Detect Frames**"
   ]
  },
  {
   "cell_type": "code",
   "execution_count": null,
   "metadata": {},
   "outputs": [],
   "source": [
    "# Test SAMPLE\n",
    "# This should take about 1m30s, according to our 3 sentence rule.\n",
    "\n",
    "# Assuming merged_df is your DataFrame and 'sents_sample' is the column containing the sampled sentences\n",
    "sample_df = merged_df[:2].copy()  # Copy the first 2 rows of merged_df to sample_df\n",
    "\n",
    "# Create an empty 'frames' column\n",
    "sample_df['frames'] = None\n",
    "\n",
    "# Loop over each index and cell in the 'sents_sample' column of sample_df\n",
    "for i, cell in enumerate(sample_df['sents_sample']):\n",
    "    result = frame_transformer.detect_frames_bulk(cell)\n",
    "    frames = [frame.name for r in result for frame in r.frames]\n",
    "    sample_df.at[sample_df.index[i], 'frames'] = frames  \n",
    "\n",
    "# Print the modified sample_df\n",
    "# print(sample_df)"
   ]
  },
  {
   "cell_type": "code",
   "execution_count": 130,
   "metadata": {},
   "outputs": [
    {
     "data": {
      "text/html": [
       "<div>\n",
       "<style scoped>\n",
       "    .dataframe tbody tr th:only-of-type {\n",
       "        vertical-align: middle;\n",
       "    }\n",
       "\n",
       "    .dataframe tbody tr th {\n",
       "        vertical-align: top;\n",
       "    }\n",
       "\n",
       "    .dataframe thead th {\n",
       "        text-align: right;\n",
       "    }\n",
       "</style>\n",
       "<table border=\"1\" class=\"dataframe\">\n",
       "  <thead>\n",
       "    <tr style=\"text-align: right;\">\n",
       "      <th></th>\n",
       "      <th>id</th>\n",
       "      <th>text</th>\n",
       "      <th>embedding</th>\n",
       "      <th>sents_token</th>\n",
       "      <th>sents_sample</th>\n",
       "      <th>frames</th>\n",
       "    </tr>\n",
       "  </thead>\n",
       "  <tbody>\n",
       "    <tr>\n",
       "      <th>0</th>\n",
       "      <td>03299a0bcddf7cec7bb8587c87af598a30cf6f24</td>\n",
       "      <td>Marceline Loridan-Ivens may be best known for ...</td>\n",
       "      <td>[0.0129690608009696, 0.04015115275979042, -0.0...</td>\n",
       "      <td>[Marceline Loridan-Ivens may be best known for...</td>\n",
       "      <td>[She was also a Holocaust survivor, who return...</td>\n",
       "      <td>[Perception_experience, Text_creation, Means, ...</td>\n",
       "    </tr>\n",
       "    <tr>\n",
       "      <th>1</th>\n",
       "      <td>adb692013a60e1a7eb79ca4759e92fd5245a4f2d</td>\n",
       "      <td>How do extraordinary experiences, especially d...</td>\n",
       "      <td>[-0.01149928942322731, 0.04745658487081528, -0...</td>\n",
       "      <td>[How do extraordinary experiences, especially ...</td>\n",
       "      <td>[He then conducts semi-structured interviews w...</td>\n",
       "      <td>[Discussion, Participation, Purpose, Scrutiny,...</td>\n",
       "    </tr>\n",
       "  </tbody>\n",
       "</table>\n",
       "</div>"
      ],
      "text/plain": [
       "                                         id  \\\n",
       "0  03299a0bcddf7cec7bb8587c87af598a30cf6f24   \n",
       "1  adb692013a60e1a7eb79ca4759e92fd5245a4f2d   \n",
       "\n",
       "                                                text  \\\n",
       "0  Marceline Loridan-Ivens may be best known for ...   \n",
       "1  How do extraordinary experiences, especially d...   \n",
       "\n",
       "                                           embedding  \\\n",
       "0  [0.0129690608009696, 0.04015115275979042, -0.0...   \n",
       "1  [-0.01149928942322731, 0.04745658487081528, -0...   \n",
       "\n",
       "                                         sents_token  \\\n",
       "0  [Marceline Loridan-Ivens may be best known for...   \n",
       "1  [How do extraordinary experiences, especially ...   \n",
       "\n",
       "                                        sents_sample  \\\n",
       "0  [She was also a Holocaust survivor, who return...   \n",
       "1  [He then conducts semi-structured interviews w...   \n",
       "\n",
       "                                              frames  \n",
       "0  [Perception_experience, Text_creation, Means, ...  \n",
       "1  [Discussion, Participation, Purpose, Scrutiny,...  "
      ]
     },
     "execution_count": 130,
     "metadata": {},
     "output_type": "execute_result"
    }
   ],
   "source": [
    "sample_df[:2]"
   ]
  },
  {
   "cell_type": "code",
   "execution_count": 129,
   "metadata": {},
   "outputs": [
    {
     "data": {
      "text/html": [
       "<div>\n",
       "<style scoped>\n",
       "    .dataframe tbody tr th:only-of-type {\n",
       "        vertical-align: middle;\n",
       "    }\n",
       "\n",
       "    .dataframe tbody tr th {\n",
       "        vertical-align: top;\n",
       "    }\n",
       "\n",
       "    .dataframe thead th {\n",
       "        text-align: right;\n",
       "    }\n",
       "</style>\n",
       "<table border=\"1\" class=\"dataframe\">\n",
       "  <thead>\n",
       "    <tr style=\"text-align: right;\">\n",
       "      <th></th>\n",
       "      <th>id</th>\n",
       "      <th>text</th>\n",
       "      <th>embedding</th>\n",
       "      <th>sents_token</th>\n",
       "      <th>sents_sample</th>\n",
       "    </tr>\n",
       "  </thead>\n",
       "  <tbody>\n",
       "    <tr>\n",
       "      <th>0</th>\n",
       "      <td>03299a0bcddf7cec7bb8587c87af598a30cf6f24</td>\n",
       "      <td>Marceline Loridan-Ivens may be best known for ...</td>\n",
       "      <td>[0.0129690608009696, 0.04015115275979042, -0.0...</td>\n",
       "      <td>[Marceline Loridan-Ivens may be best known for...</td>\n",
       "      <td>[She was also a Holocaust survivor, who return...</td>\n",
       "    </tr>\n",
       "    <tr>\n",
       "      <th>1</th>\n",
       "      <td>adb692013a60e1a7eb79ca4759e92fd5245a4f2d</td>\n",
       "      <td>How do extraordinary experiences, especially d...</td>\n",
       "      <td>[-0.01149928942322731, 0.04745658487081528, -0...</td>\n",
       "      <td>[How do extraordinary experiences, especially ...</td>\n",
       "      <td>[He then conducts semi-structured interviews w...</td>\n",
       "    </tr>\n",
       "  </tbody>\n",
       "</table>\n",
       "</div>"
      ],
      "text/plain": [
       "                                         id  \\\n",
       "0  03299a0bcddf7cec7bb8587c87af598a30cf6f24   \n",
       "1  adb692013a60e1a7eb79ca4759e92fd5245a4f2d   \n",
       "\n",
       "                                                text  \\\n",
       "0  Marceline Loridan-Ivens may be best known for ...   \n",
       "1  How do extraordinary experiences, especially d...   \n",
       "\n",
       "                                           embedding  \\\n",
       "0  [0.0129690608009696, 0.04015115275979042, -0.0...   \n",
       "1  [-0.01149928942322731, 0.04745658487081528, -0...   \n",
       "\n",
       "                                         sents_token  \\\n",
       "0  [Marceline Loridan-Ivens may be best known for...   \n",
       "1  [How do extraordinary experiences, especially ...   \n",
       "\n",
       "                                        sents_sample  \n",
       "0  [She was also a Holocaust survivor, who return...  \n",
       "1  [He then conducts semi-structured interviews w...  "
      ]
     },
     "execution_count": 129,
     "metadata": {},
     "output_type": "execute_result"
    }
   ],
   "source": [
    "merged_df[:2]"
   ]
  },
  {
   "cell_type": "code",
   "execution_count": 131,
   "metadata": {},
   "outputs": [],
   "source": [
    "# Run for all text!\n",
    "\n",
    "# Create an empty 'frames' column\n",
    "merged_df['frames'] = None\n",
    "\n",
    "# Loop over each index and cell in the 'sents_sample' column of merged_df\n",
    "for i, cell in enumerate(merged_df['sents_sample']):\n",
    "    result = frame_transformer.detect_frames_bulk(cell)\n",
    "    frames = [frame.name for r in result for frame in r.frames]\n",
    "    merged_df.at[merged_df.index[i], 'frames'] = frames  \n",
    "\n",
    "# Save to CSV\n",
    "merged_df.to_csv('eyewitness_abstracts_frame.csv')"
   ]
  },
  {
   "cell_type": "code",
   "execution_count": 132,
   "metadata": {},
   "outputs": [
    {
     "name": "stdout",
     "output_type": "stream",
     "text": [
      "(700, 6)\n"
     ]
    },
    {
     "data": {
      "text/html": [
       "<div>\n",
       "<style scoped>\n",
       "    .dataframe tbody tr th:only-of-type {\n",
       "        vertical-align: middle;\n",
       "    }\n",
       "\n",
       "    .dataframe tbody tr th {\n",
       "        vertical-align: top;\n",
       "    }\n",
       "\n",
       "    .dataframe thead th {\n",
       "        text-align: right;\n",
       "    }\n",
       "</style>\n",
       "<table border=\"1\" class=\"dataframe\">\n",
       "  <thead>\n",
       "    <tr style=\"text-align: right;\">\n",
       "      <th></th>\n",
       "      <th>id</th>\n",
       "      <th>text</th>\n",
       "      <th>embedding</th>\n",
       "      <th>sents_token</th>\n",
       "      <th>sents_sample</th>\n",
       "      <th>frames</th>\n",
       "    </tr>\n",
       "  </thead>\n",
       "  <tbody>\n",
       "    <tr>\n",
       "      <th>0</th>\n",
       "      <td>03299a0bcddf7cec7bb8587c87af598a30cf6f24</td>\n",
       "      <td>Marceline Loridan-Ivens may be best known for ...</td>\n",
       "      <td>[0.0129690608009696, 0.04015115275979042, -0.0...</td>\n",
       "      <td>[Marceline Loridan-Ivens may be best known for...</td>\n",
       "      <td>[She was also a Holocaust survivor, who return...</td>\n",
       "      <td>[Perception_experience, Text_creation, Means, ...</td>\n",
       "    </tr>\n",
       "    <tr>\n",
       "      <th>1</th>\n",
       "      <td>adb692013a60e1a7eb79ca4759e92fd5245a4f2d</td>\n",
       "      <td>How do extraordinary experiences, especially d...</td>\n",
       "      <td>[-0.01149928942322731, 0.04745658487081528, -0...</td>\n",
       "      <td>[How do extraordinary experiences, especially ...</td>\n",
       "      <td>[He then conducts semi-structured interviews w...</td>\n",
       "      <td>[Discussion, Participation, Purpose, Scrutiny,...</td>\n",
       "    </tr>\n",
       "  </tbody>\n",
       "</table>\n",
       "</div>"
      ],
      "text/plain": [
       "                                         id  \\\n",
       "0  03299a0bcddf7cec7bb8587c87af598a30cf6f24   \n",
       "1  adb692013a60e1a7eb79ca4759e92fd5245a4f2d   \n",
       "\n",
       "                                                text  \\\n",
       "0  Marceline Loridan-Ivens may be best known for ...   \n",
       "1  How do extraordinary experiences, especially d...   \n",
       "\n",
       "                                           embedding  \\\n",
       "0  [0.0129690608009696, 0.04015115275979042, -0.0...   \n",
       "1  [-0.01149928942322731, 0.04745658487081528, -0...   \n",
       "\n",
       "                                         sents_token  \\\n",
       "0  [Marceline Loridan-Ivens may be best known for...   \n",
       "1  [How do extraordinary experiences, especially ...   \n",
       "\n",
       "                                        sents_sample  \\\n",
       "0  [She was also a Holocaust survivor, who return...   \n",
       "1  [He then conducts semi-structured interviews w...   \n",
       "\n",
       "                                              frames  \n",
       "0  [Perception_experience, Text_creation, Means, ...  \n",
       "1  [Discussion, Participation, Purpose, Scrutiny,...  "
      ]
     },
     "execution_count": 132,
     "metadata": {},
     "output_type": "execute_result"
    }
   ],
   "source": [
    "print(merged_df.shape)\n",
    "merged_df[:2]"
   ]
  },
  {
   "cell_type": "code",
   "execution_count": 146,
   "metadata": {},
   "outputs": [],
   "source": [
    "merged_df['source'] = \"\"\n",
    "\n",
    "merged_df['source'][:350, ] = \"abstracts\"\n",
    "merged_df['source'][350:, ] = \"eyewitness\""
   ]
  },
  {
   "cell_type": "code",
   "execution_count": 147,
   "metadata": {},
   "outputs": [],
   "source": [
    "# Reorder columns\n",
    "# Drop the column\n",
    "col_to_move = merged_df.pop('source')\n",
    "\n",
    "# Insert the column at the new position\n",
    "merged_df.insert(1, 'source', col_to_move)"
   ]
  },
  {
   "cell_type": "code",
   "execution_count": 148,
   "metadata": {},
   "outputs": [
    {
     "data": {
      "text/html": [
       "<div>\n",
       "<style scoped>\n",
       "    .dataframe tbody tr th:only-of-type {\n",
       "        vertical-align: middle;\n",
       "    }\n",
       "\n",
       "    .dataframe tbody tr th {\n",
       "        vertical-align: top;\n",
       "    }\n",
       "\n",
       "    .dataframe thead th {\n",
       "        text-align: right;\n",
       "    }\n",
       "</style>\n",
       "<table border=\"1\" class=\"dataframe\">\n",
       "  <thead>\n",
       "    <tr style=\"text-align: right;\">\n",
       "      <th></th>\n",
       "      <th>id</th>\n",
       "      <th>source</th>\n",
       "      <th>text</th>\n",
       "      <th>embedding</th>\n",
       "      <th>sents_token</th>\n",
       "      <th>sents_sample</th>\n",
       "      <th>frames</th>\n",
       "    </tr>\n",
       "  </thead>\n",
       "  <tbody>\n",
       "    <tr>\n",
       "      <th>349</th>\n",
       "      <td>310f6483ff18293a47e11024e3f9f5be0d2fa66c</td>\n",
       "      <td>abstracts</td>\n",
       "      <td>This paper reviews the literature on the long-...</td>\n",
       "      <td>[0.02258148603141308, 0.06869726628065109, 0.0...</td>\n",
       "      <td>[This paper reviews the literature on the long...</td>\n",
       "      <td>[Second, the aging process not only presents i...</td>\n",
       "      <td>[Process, Change_position_on_a_scale, Difficul...</td>\n",
       "    </tr>\n",
       "    <tr>\n",
       "      <th>350</th>\n",
       "      <td>P.III.i. (Southwest Africa) No. 553</td>\n",
       "      <td>eyewitness</td>\n",
       "      <td>Windhook, 1939 - 1942 When Mussolini’s switch ...</td>\n",
       "      <td>[-0.02214563637971878, 0.04101519659161568, -0...</td>\n",
       "      <td>[Windhook, 1939 - 1942 When Mussolini’s switch...</td>\n",
       "      <td>[There were (good) German amateur concerts, wh...</td>\n",
       "      <td>[Existence, Existence, People_by_origin, Socia...</td>\n",
       "    </tr>\n",
       "    <tr>\n",
       "      <th>351</th>\n",
       "      <td>P.II.d. No. 8</td>\n",
       "      <td>eyewitness</td>\n",
       "      <td>Kiel. Pogrom: During the night of 10th Novembe...</td>\n",
       "      <td>[-0.019050007686018944, 0.03850502893328667, 0...</td>\n",
       "      <td>[Kiel., Pogrom: During the night of 10th Novem...</td>\n",
       "      <td>[Mr Hans Lask gives the following interview fo...</td>\n",
       "      <td>[Possession, Fields, Intentionally_create, Kin...</td>\n",
       "    </tr>\n",
       "  </tbody>\n",
       "</table>\n",
       "</div>"
      ],
      "text/plain": [
       "                                           id      source  \\\n",
       "349  310f6483ff18293a47e11024e3f9f5be0d2fa66c   abstracts   \n",
       "350       P.III.i. (Southwest Africa) No. 553  eyewitness   \n",
       "351                             P.II.d. No. 8  eyewitness   \n",
       "\n",
       "                                                  text  \\\n",
       "349  This paper reviews the literature on the long-...   \n",
       "350  Windhook, 1939 - 1942 When Mussolini’s switch ...   \n",
       "351  Kiel. Pogrom: During the night of 10th Novembe...   \n",
       "\n",
       "                                             embedding  \\\n",
       "349  [0.02258148603141308, 0.06869726628065109, 0.0...   \n",
       "350  [-0.02214563637971878, 0.04101519659161568, -0...   \n",
       "351  [-0.019050007686018944, 0.03850502893328667, 0...   \n",
       "\n",
       "                                           sents_token  \\\n",
       "349  [This paper reviews the literature on the long...   \n",
       "350  [Windhook, 1939 - 1942 When Mussolini’s switch...   \n",
       "351  [Kiel., Pogrom: During the night of 10th Novem...   \n",
       "\n",
       "                                          sents_sample  \\\n",
       "349  [Second, the aging process not only presents i...   \n",
       "350  [There were (good) German amateur concerts, wh...   \n",
       "351  [Mr Hans Lask gives the following interview fo...   \n",
       "\n",
       "                                                frames  \n",
       "349  [Process, Change_position_on_a_scale, Difficul...  \n",
       "350  [Existence, Existence, People_by_origin, Socia...  \n",
       "351  [Possession, Fields, Intentionally_create, Kin...  "
      ]
     },
     "execution_count": 148,
     "metadata": {},
     "output_type": "execute_result"
    }
   ],
   "source": [
    "merged_df.iloc[349:352, :]"
   ]
  },
  {
   "cell_type": "code",
   "execution_count": 149,
   "metadata": {},
   "outputs": [],
   "source": [
    "# Save\n",
    "# merged_df.to_csv('eyewitness_abstracts_frame_full.csv')"
   ]
  }
 ],
 "metadata": {
  "kernelspec": {
   "display_name": "py3114",
   "language": "python",
   "name": "py3114"
  },
  "language_info": {
   "codemirror_mode": {
    "name": "ipython",
    "version": 3
   },
   "file_extension": ".py",
   "mimetype": "text/x-python",
   "name": "python",
   "nbconvert_exporter": "python",
   "pygments_lexer": "ipython3",
   "version": "3.11.4"
  }
 },
 "nbformat": 4,
 "nbformat_minor": 2
}
