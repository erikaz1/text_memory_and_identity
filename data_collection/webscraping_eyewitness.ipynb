{
 "cells": [
  {
   "cell_type": "code",
   "execution_count": 1,
   "metadata": {},
   "outputs": [
    {
     "name": "stdout",
     "output_type": "stream",
     "text": [
      "Python 3.11.4\n"
     ]
    }
   ],
   "source": [
    "# !python --version"
   ]
  },
  {
   "cell_type": "code",
   "execution_count": 3,
   "metadata": {},
   "outputs": [],
   "source": [
    "# !pip install selenium"
   ]
  },
  {
   "cell_type": "markdown",
   "metadata": {},
   "source": [
    "# Crafting links"
   ]
  },
  {
   "cell_type": "code",
   "execution_count": 43,
   "metadata": {},
   "outputs": [
    {
     "data": {
      "text/plain": [
       "[1, 2, 3]"
      ]
     },
     "execution_count": 43,
     "metadata": {},
     "output_type": "execute_result"
    }
   ],
   "source": [
    "[i for i in range(1, 4)]"
   ]
  },
  {
   "cell_type": "code",
   "execution_count": 48,
   "metadata": {},
   "outputs": [],
   "source": [
    "# Home page for Eyewitness Testimonies\n",
    "root_url = 'https://www.testifyingtothetruth.co.uk/viewer/search/-/PI%3A*/1/SORT_SHELFMARK/BOOL_HASENGLISHTRANSLATION%3Atrue%3B%3B/'"
   ]
  },
  {
   "cell_type": "code",
   "execution_count": 53,
   "metadata": {},
   "outputs": [],
   "source": [
    "# Get all pages to visit \n",
    "eyewitness_pages = []\n",
    "\n",
    "for i in range(1, 62):\n",
    "    url = 'https://www.testifyingtothetruth.co.uk/viewer/search/-/PI%3A*/' + str(i) + '/SORT_SHELFMARK/BOOL_HASENGLISHTRANSLATION%3Atrue%3B%3B/'\n",
    "    eyewitness_pages.append(url)"
   ]
  },
  {
   "cell_type": "code",
   "execution_count": 55,
   "metadata": {},
   "outputs": [
    {
     "data": {
      "text/plain": [
       "'https://www.testifyingtothetruth.co.uk/viewer/search/-/PI%3A*/1/SORT_SHELFMARK/BOOL_HASENGLISHTRANSLATION%3Atrue%3B%3B/'"
      ]
     },
     "execution_count": 55,
     "metadata": {},
     "output_type": "execute_result"
    }
   ],
   "source": [
    "eyewitness_pages[0]"
   ]
  },
  {
   "cell_type": "markdown",
   "metadata": {},
   "source": [
    "Next, for each page, extract each Report using BeautifulSoup."
   ]
  },
  {
   "cell_type": "markdown",
   "metadata": {},
   "source": [
    "# Beautiful Soup"
   ]
  },
  {
   "cell_type": "code",
   "execution_count": 2,
   "metadata": {},
   "outputs": [],
   "source": [
    "import requests\n",
    "from bs4 import BeautifulSoup\n",
    "import pickle"
   ]
  },
  {
   "cell_type": "code",
   "execution_count": 63,
   "metadata": {},
   "outputs": [],
   "source": [
    "# Function to scrape and process links\n",
    "def get_page_links(url):\n",
    "    link_urls = []\n",
    "    # Send a GET request to the URL\n",
    "    response = requests.get(url)\n",
    "    \n",
    "    # Check if the request was successful\n",
    "    if response.status_code == 200:\n",
    "        # Parse the HTML content\n",
    "        soup = BeautifulSoup(response.content, 'html.parser')\n",
    "        \n",
    "        # Find all links with class \"search-list__hit-title\"\n",
    "        divs = soup.find_all('div', class_='search-list__hit-title')\n",
    "        \n",
    "        for div in divs:\n",
    "            link = div.find('a')\n",
    "            if link:\n",
    "                href = link.get('href')\n",
    "                link_urls.append(href)\n",
    "                \n",
    "    return link_urls"
   ]
  },
  {
   "cell_type": "code",
   "execution_count": 64,
   "metadata": {},
   "outputs": [],
   "source": [
    "# Transform links (get english version of pages)\n",
    "def get_english_page(url):\n",
    "    # Step 1: Replace \"metadata\" with \"fulltext\"\n",
    "    url = url.replace(\"/metadata/\", \"/fulltext/\")\n",
    "\n",
    "    # Step 2: Replace \"1/eng/\" with \"en/\"\n",
    "    url = url.replace(\"1/eng/\", \"en/\")\n",
    "\n",
    "    return url"
   ]
  },
  {
   "cell_type": "code",
   "execution_count": 65,
   "metadata": {},
   "outputs": [],
   "source": [
    "# Put it all together: extract and create ALL the links I will actually use to \n",
    "# visit with bs4 and scrape. \n",
    "urls_to_visit = []\n",
    "\n",
    "for page in eyewitness_pages:\n",
    "    page_links = get_page_links(page)\n",
    "\n",
    "    for subPage in page_links:\n",
    "        urls_to_visit.append(get_english_page(subPage))"
   ]
  },
  {
   "cell_type": "code",
   "execution_count": 66,
   "metadata": {},
   "outputs": [
    {
     "data": {
      "text/plain": [
       "721"
      ]
     },
     "execution_count": 66,
     "metadata": {},
     "output_type": "execute_result"
    }
   ],
   "source": [
    "# Resulting list should be of length 721\n",
    "len(urls_to_visit)"
   ]
  },
  {
   "cell_type": "code",
   "execution_count": 67,
   "metadata": {},
   "outputs": [
    {
     "name": "stdout",
     "output_type": "stream",
     "text": [
      "List has been written to all_urls_to_visit.pickle\n"
     ]
    }
   ],
   "source": [
    "# # Save list as pickle\n",
    "# import pickle\n",
    "\n",
    "# # File path for the pickle file\n",
    "# file_path = 'all_urls_to_visit.pickle'\n",
    "\n",
    "# # Write the list to the pickle file\n",
    "# with open(file_path, 'wb') as f:\n",
    "#     pickle.dump(urls_to_visit, f)\n",
    "\n",
    "# print(\"List has been written to\", file_path)"
   ]
  },
  {
   "cell_type": "code",
   "execution_count": 5,
   "metadata": {},
   "outputs": [],
   "source": [
    "import os"
   ]
  },
  {
   "cell_type": "code",
   "execution_count": 6,
   "metadata": {},
   "outputs": [
    {
     "data": {
      "text/plain": [
       "'/Users/ez/Desktop/text_memory_and_identity/data'"
      ]
     },
     "execution_count": 6,
     "metadata": {},
     "output_type": "execute_result"
    }
   ],
   "source": [
    "os.getcwd()"
   ]
  },
  {
   "cell_type": "code",
   "execution_count": 3,
   "metadata": {},
   "outputs": [],
   "source": [
    "# READ IN DATA\n",
    "# Specify the path to your pickle file\n",
    "pickle_file_path = 'all_urls_to_visit.pickle'\n",
    "\n",
    "# Open the pickle file in read-binary mode\n",
    "with open(pickle_file_path, 'rb') as file:\n",
    "    # Load the data from the pickle file\n",
    "    urls_to_visit = pickle.load(file)"
   ]
  },
  {
   "cell_type": "code",
   "execution_count": 4,
   "metadata": {},
   "outputs": [
    {
     "data": {
      "text/plain": [
       "['https://www.testifyingtothetruth.co.uk/viewer/fulltext/106396/en/',\n",
       " 'https://www.testifyingtothetruth.co.uk/viewer/fulltext/106397/en/',\n",
       " 'https://www.testifyingtothetruth.co.uk/viewer/fulltext/106398/en/',\n",
       " 'https://www.testifyingtothetruth.co.uk/viewer/fulltext/106399/en/',\n",
       " 'https://www.testifyingtothetruth.co.uk/viewer/fulltext/106405/en/',\n",
       " 'https://www.testifyingtothetruth.co.uk/viewer/fulltext/106408/en/',\n",
       " 'https://www.testifyingtothetruth.co.uk/viewer/fulltext/106410/en/',\n",
       " 'https://www.testifyingtothetruth.co.uk/viewer/fulltext/106413/en/',\n",
       " 'https://www.testifyingtothetruth.co.uk/viewer/fulltext/106415/en/',\n",
       " 'https://www.testifyingtothetruth.co.uk/viewer/fulltext/106420/en/']"
      ]
     },
     "execution_count": 4,
     "metadata": {},
     "output_type": "execute_result"
    }
   ],
   "source": [
    "urls_to_visit[640:650]"
   ]
  },
  {
   "cell_type": "markdown",
   "metadata": {},
   "source": [
    "# Scrape Page Content"
   ]
  },
  {
   "cell_type": "code",
   "execution_count": 5,
   "metadata": {},
   "outputs": [],
   "source": [
    "import regex as re"
   ]
  },
  {
   "cell_type": "code",
   "execution_count": 23,
   "metadata": {},
   "outputs": [],
   "source": [
    "def get_metadata_text(soup):\n",
    "    \"\"\"\n",
    "    Extracts metadata (title, date, num pages, etc.), 9 total elements, from \n",
    "    the first part of each page.\n",
    "\n",
    "    Returns: \n",
    "        (list): A list of tuples containing: ('metadata type', 'value')\n",
    "    \"\"\"\n",
    "    bullet_points = []\n",
    "    \n",
    "    # Find all <strong> elements\n",
    "    bullet_names = soup.find_all('strong')\n",
    "\n",
    "    # Extract the text of the bullet points and remove leading number and period\n",
    "    for bullet_name in bullet_names:\n",
    "        # Extract the text of the <strong> element\n",
    "        bullet_name_text = bullet_name.get_text(strip=True)\n",
    "        \n",
    "        # Check if the text starts with a number followed by a period\n",
    "        if re.match(r'^\\d+\\.', bullet_name_text):\n",
    "            # If it does, remove leading number and period from bullet name\n",
    "            try: \n",
    "                bullet_name_text = bullet_name_text.split('. ', 1)[1] if bullet_name_text[0].isdigit() else bullet_name_text\n",
    "            except IndexError:\n",
    "                continue # skips this line of code\n",
    "\n",
    "            # Find the next sibling containing text\n",
    "            bullet_text_sibling = bullet_name.find_next_sibling(text=True)\n",
    "            \n",
    "            # If bullet_text_sibling is not None, extract its text and strip leading/trailing whitespace\n",
    "            if bullet_text_sibling:\n",
    "                bullet_text = bullet_text_sibling.strip()\n",
    "\n",
    "                # Remove trailing bullet point using regular expressions\n",
    "                bullet_text = re.sub(r'\\.\\s*$', '', bullet_text)\n",
    "                # Remove colon and space at the beginning of bullet text\n",
    "                bullet_text = bullet_text.lstrip(': ')\n",
    "            else:\n",
    "                bullet_text = \"\"  # If bullet_text_sibling is None, set bullet_text to an empty string\n",
    "            \n",
    "            # Add the bullet point to the list\n",
    "            bullet_points.append((bullet_name_text, bullet_text))\n",
    "    \n",
    "    return bullet_points\n",
    "\n",
    "\n",
    "def get_main_text(soup):\n",
    "    \"\"\"\n",
    "    Extracts main body of eyewitness testimony text from beautiful soup object.\n",
    "\n",
    "    Returns: \n",
    "        (tuple): formatted as ('Text', 'main body text here')\n",
    "    \"\"\"\n",
    "    # Parse the HTML content\n",
    "    # soup = BeautifulSoup(response.content, 'html.parser')\n",
    "    \n",
    "    # Find all <strong> tags containing bullet point names\n",
    "    segments = soup.find_all('seg')\n",
    "\n",
    "    # Extract text content from all paragraphs within the <seg> tag\n",
    "    paragraphs = segments[1].find_all('p')\n",
    "    paragraph_texts = [paragraph.get_text(strip=True) for paragraph in paragraphs]\n",
    "    \n",
    "    # Join the text content of paragraphs with a space\n",
    "    seg_text = ' '.join(paragraph_texts)\n",
    "\n",
    "    # Format into tuple\n",
    "    return  ('Text', seg_text)"
   ]
  },
  {
   "cell_type": "code",
   "execution_count": 234,
   "metadata": {},
   "outputs": [
    {
     "name": "stderr",
     "output_type": "stream",
     "text": [
      "/var/folders/3q/0f9bqcgn3lg9b61gvs47l33r0000gn/T/ipykernel_22667/3279029186.py:22: DeprecationWarning: The 'text' argument to find()-type methods is deprecated. Use 'string' instead.\n",
      "  bullet_text_sibling = bullet_name.find_next_sibling(text=True)\n"
     ]
    }
   ],
   "source": [
    "# # TESTING\n",
    "# response = requests.get(urls_to_visit[200])\n",
    "\n",
    "# bullet_points = []\n",
    "# if response.status_code == 200:\n",
    "#     soup = BeautifulSoup(response.content, 'html.parser')\n",
    "\n",
    "#     # Find all <strong> elements\n",
    "#     bullet_names = soup.find_all('strong')\n",
    "\n",
    "#     # Extract the text of the bullet points and remove leading number and period\n",
    "#     for bullet_name in bullet_names:\n",
    "#         # Extract the text of the <strong> element\n",
    "#         bullet_name_text = bullet_name.get_text(strip=True)\n",
    "        \n",
    "#         # Check if the text starts with a number followed by a period\n",
    "#         if re.match(r'^\\d+\\.', bullet_name_text):\n",
    "#             # If it does, remove leading number and period from bullet name\n",
    "#             bullet_name_text = bullet_name_text.split('. ', 1)[1] if bullet_name_text[0].isdigit() else bullet_name_text\n",
    "            \n",
    "#             # Find the next sibling containing text\n",
    "#             bullet_text_sibling = bullet_name.find_next_sibling(text=True)\n",
    "            \n",
    "#             # If bullet_text_sibling is not None, extract its text and strip leading/trailing whitespace\n",
    "#             if bullet_text_sibling:\n",
    "#                 bullet_text = bullet_text_sibling.strip()\n",
    "\n",
    "#                 # Remove trailing bullet point using regular expressions\n",
    "#                 bullet_text = re.sub(r'\\.\\s*$', '', bullet_text)\n",
    "#                 # Remove colon and space at the beginning of bullet text\n",
    "#                 bullet_text = bullet_text.lstrip(': ')\n",
    "#             else:\n",
    "#                 bullet_text = \"\"  # If bullet_text_sibling is None, set bullet_text to an empty string\n",
    "            \n",
    "#             # Add the bullet point to the list\n",
    "#             bullet_points.append((bullet_name_text, bullet_text))\n",
    "\n",
    "# print(len(bullet_points))\n",
    "# bullet_points"
   ]
  },
  {
   "cell_type": "code",
   "execution_count": 239,
   "metadata": {},
   "outputs": [
    {
     "name": "stderr",
     "output_type": "stream",
     "text": [
      "/var/folders/3q/0f9bqcgn3lg9b61gvs47l33r0000gn/T/ipykernel_22667/3225529851.py:25: DeprecationWarning: The 'text' argument to find()-type methods is deprecated. Use 'string' instead.\n",
      "  bullet_text_sibling = bullet_name.find_next_sibling(text=True)\n"
     ]
    }
   ],
   "source": [
    "# # Scrape page text - TEST\n",
    "\n",
    "# urls_to_visit2 = urls_to_visit[:10]\n",
    "# eyewitness_data = []\n",
    "\n",
    "# for url in urls_to_visit2:\n",
    "#     response = requests.get(url)\n",
    "\n",
    "#     if response.status_code == 200:\n",
    "#         soup = BeautifulSoup(response.content, 'html.parser')\n",
    "\n",
    "#         metadata_text = get_metadata_text(soup)\n",
    "\n",
    "#         main_text = get_main_text(soup)\n",
    "\n",
    "#     # Since metadata_text is a list, append main_text to metadata_text, and \n",
    "#     # append both to new list\n",
    "#     metadata_text.append(main_text)\n",
    "#     eyewitness_data.append(metadata_text)"
   ]
  },
  {
   "cell_type": "code",
   "execution_count": 242,
   "metadata": {},
   "outputs": [
    {
     "data": {
      "text/plain": [
       "[[('Index Number', 'P.I.a. No. 62'),\n",
       "  ('Title of Document', 'The Jews in Pomerania'),\n",
       "  ('Date', ''),\n",
       "  ('Number of pages', '10'),\n",
       "  ('Author of Source', 'Dr. Ernst Alban'),\n",
       "  ('Recorded by', 'as above, March 1955'),\n",
       "  ('References',\n",
       "   'Rabbiner Dr. Elk, Rabbiner Dr. Vogelstein, Rabbiner Dr. Max Wiener (p.10); Paul Hirschfeld, liaison officer between'),\n",
       "  ('Form and Contents',\n",
       "   'A report (in two parts: A. The Jews in Pomerania before 1933, B. The Jews in Pomerania since 1933) dealing with the remarkable economic prosperity of the Pomeranian Jews up to 1933 and their gradual well-planned elimination thereafter'),\n",
       "  ('Text',\n",
       "   'The Jews in Pomerania I, Dr. Ernst Alban, hereby transfer all literary copyright of the 12 attached handwritten pages “Die Juden in Pommern” [The Jews in Pomerania] to TheWiener Library, London, W.1. I further declare that I will not subject TheWiener Libraryor any individual to any pecuniary claims on my behalf for writing or taking minutes of the attached work. Virginia Water/Surrey, England, 20\\xa0March 1955 - 1 - (A)The Jews in Pomerania (until 1933) 1. The number of Jews in the province of Pomerania ranged between 5,000 and 6,000, and half of them resided in the provincial capital of Stettin, the other half being scattered in small communities in the smaller towns in the province and in the country. Their settlement in the area was largely based on the fact that after the partitioning of Poland in 1792, even in those areas which fell to Prussia, a large number of Jews lived there who refused to take part in the migration to Berlin and further westwards. 2. It should be assumed that the Non-Jewish population in Pomerania as well as in the so-called “Ostmark” (the eastern regions Prussia acquired in the partition of Poland) in general was primarily of an agricultural nature and the Baltic sea coast was populated by fisherman. If you first consider the situation up until the end of the First World War, so up until 1918, the population was overall a peaceful and modest breed of people, largely had a slow pace of life and were not politically minded. The political leadership was largely headed by the main landowners (the Junkers) and was therefore conservative-reactionary. Socialist or any left radical groups at all did not have much force outside of Stettin. Stettin itself for its size – 250,000 inhabitants - also had a large amount of industry. I will just mention Feldmühle A.G. (paper and cardboard manufacturers) based in Stettin Odermünde, Vulkanwerke A.G. (a ship and machinery building firm) in Stettin-Bredow, and A.G. (for chemical products) in Stettin Pommerensdorf, all of which were companies which were well-known right across Germany. In addition, further along the Oder river, there were more small-sized businesses. And finally Stettin was a leading shipping town in Eastern Germany and after Aschaffenburg the main centre of the men\\'s and boy\\'s clothing industry in Germany, with an army of 25,000 – 30,000 tailors who mainly made a living from home-working. 3. Up until 1918, people used to talk of an ‘old-seated rift’ which did not permit proper business relationships to develop between Jews and non-Jews but which gave the former the opportunity to build up successful businesses. Therefore, we see that the Jews even from the beginning of the 19thcentury, particularly in smaller provincial towns, had good positions. For the most part, they had leading retail businesses in the market square. Besides this they were also heavily represented in banking and corn trading, although this was not as apparent, it was of greater economic significance. And in these same families we see they earned Iron Crosses from 1812/13, 1864/66, 1870/71 and 1914/1918 and some honorary citizen awards from the 1820s and later. Just to mention a few names: corn-trade and banking businesses: M.S. Dobrin-Freienwalde in Pomerania, D. Dobrin-Daber in Pomerania, Weile-Hammerstein. Besides that, there was, for example, Ascher Levy in Bad Polzin, timber traders and Litten-Köslin building materials. - 2 - All of these businesses had the common aim to provide their \\'Aryan\\' clientele with financial support, without procuring excessive financial gains from their activities. For just with the wholesale of agricultural products, especially with the Junkers, it was essential to finance the agricultural producers in such a way so that they could buy their seeds, buy equipment to be able to cultivate their fields and keep them in order and could then pay for everything in the end by selling their arable crops. The system was fundamentally one of 3 times 3 monthly changes, i.e. a 9 monthly deferment of payment which to the Jewish trade took and gave to theReichsbankat a discount. On the other hand, there were not that many large \\'Aryan\\' estates which had not entered into a debt-securing mortgage a long time ago with the Jewish agricultural trade. 4. After the peace agreement of 1918 that all seemed to be endangered. Having lost West Prussia and the creation of the Polish Corridor, Pomerania was enlarged to become the Province of Pommern-Grenzmark. Thereby there was the danger that this area would become the embroiled in the so-called Völkische Freiheitsbewegung (People\\'s Freedom Movement). The returning armed forces from the Eastern and especially Baltic border states were kept on in the large estates as agricultural workers, i.e. becoming a kind of reactionary protection force against the new democratic and republican government which the Junkers saw as a threat to their traditional political dominance. You only had to think about the Feme murder trials which took place in Stettin, Koeslin and Schneidemuehle. However, it soon became clear that provincial Pomerania would not fall to the right-wing extremism. Despite nationalist groups becoming ever stronger across Germany, especially after inflation, the Junkers\\' fear that they would be overrun by democracy proved to be an over-exaggeration. On the other hand, they had no interest in backing the Hitler movement which was gaining more and more ground in Pomerania. Political life in the province was again peaceful and the Jews also benefited from that. This was best demonstrated by the business rivalry between the Pomerania cooperative confederation and the Raiffeisen confederation which, after 1918, became the farmers\\' preferred cooperative bank. The former were supposed to provide the Junkers with financial support but ended up completely failing and went into liquidation around 1926. A considerable part of their revenue was again taken over by the older Jewish companies. Even the leading farming daily newspaper, thePommersche Tageszeitungreflected on the fact that it would be more convenient to maintain the traditional, conservative forces and to advertise with the large Jewish businesses. However, all of this could not hinder the fact that in \\'Hinterpommern\\', the area between Stettin and the river Oder in the West and the Polish border, National Socialism was gaining more and more ground amongst the farming and business middle class. This was especially the case from approximately 1927 when the national-socialist newspaperPommersche Zeitungopened in Stettin and became the organ of the Pomeranian middle class, especially against Jewish enterprise across the province. \\'Deutschland Erwache!\\' (\\'Wake up Germany!\\') also soon became the slogan of the middle class. Jewish agricultural trade took another major blow due to the \\'Eastern assistance legislation\\' which was introduced in 1929 which declared the whole of the farming area east of the River Elbe to be liquidated. Farming businesses were placed under protection - 3 - against being seized and the control of a trustee until certain requirements were met. Many Jewish mortgages were \\'first frozen\\' and were then forced to be sold on at cut prices. That thePommersche Zeitungwas key in calling for an end to the Jewish dominance of interest rates over \\'Aryan\\' farming, is self-evident. Sadly, many large landowners were short-sighted enough to write off their debts, i.e. to place their possessions or estate under a trustee\\'s control. Only when it was too late did it become clear that they were handing themselves over to the ruling political class, and especially after 1933, made it very easy for the Nazis to advance into East Germany. The trustees in the \\'Osthilfe\\' (Eastern assistance) proceedings were mainly former small farmers but also agricultural traders from the province, so mainly people who had long fought for survival against the Jewish trading businesses and were now in a position to eliminate their former Jewish rivals. As a result, many had no other choice than to liquidate their old businesses and to move to the large cities, especially Stettin or Berlin, and drive out the established businesses. Concerning Stettin itself, the period up until 1918 should be first considered. The Jewish clothing industry has already been touched upon. In addition to that, there was a large number of Jewish travelling salesmen. It is further worth mentioning that the aforementioned Feldmühle A.G. was founded by the Jewish Gottstein brothers who had also been baptised, and who headed the board of directors until after 1933. The Jewish-run agricultural product trade was also a major part of the local economy. In this respect, as has already been indicated, it was in a more favourable position since it did not invest large amounts of capital in the individual rural estates and at least at the start of \\'Osthilfe\\' (Eastern assistance) it was limited to a drop in turnover rather than losing a large amount of capital. 5. But we would like to concentrate on the time up until 1918 first. The clothing industry was flourishing; companies such as the Feldberg Brothers, the Solms Brothers, Arensberg & Kaufmann, Karl Kaufmann, the factory manufacturing men’s clothing in Stettin, etc. were widely recognised and leading companies in the sector. The position of the Jewish retail industry was no less favourable. Companies such as Naumann, Rosenbaum, Aronheim & Co., Karger Brothers, Rotes Kaufhaus (Red department store) were the leading department stores on the main trading street (Breitestrasse /Schulzenstrasse). Then there was Dienemann & Co., the clothing retailer, which was also on Schulzenstrasse, L. Manasse Jr. in the docklands and the Dannemann Brothers in the Stettin suburb of Bredow. The leading shoe retailers in the town centre were the following: Otto Lindner, Siegmund Wolf, the Zadek Brothers. Jewish pharmacies included: Edmund Springer, Dagobert Fonfe, Wilhelm Leichter, Hugo Nadelmann (wholesaler and pharmacies). Special clothing stores included: Wilhelm Fonfe, Hermanns & Froitzheim, Ferdinand Bornstein. Unfortunately, two of the aforementioned traditional stores, Aronheim & Cohn and Dienemann & Co. turned out to no longer be competitive after inflation in the \\'2nd generation\\' and went into liquidation. 5. The W. Kunstmann company held a special position. Besides the major shipping companies, such as Norddeutsche-Lloyd, the Hamburg South American Line (HAPAG), there were obviously large so-called individual shipping companies. The largest of them was undoubtedly the 2nd generation W. Kunstmann company from Stettin. - 4 - 6. Academic occupations were, as was the norm, best represented by the medical and legal professions. The municipal hospital in Stettin was run for years by Professor Neisser, a baptised Jew. Under his leadership, it became a hospital which was well known far beyond Pomerania with over 4,000 beds. A baptised Jew, Lippmann was the governor of the province of Pomerania after the First World War.  B)The Pomeranian Jews from 1933. 1. When describing the events of this period, the general developments over the whole of the territory of the German Reich should be considered in order to avoid useless, long known and partly shelved factual accounts. Generally speaking, the political upheaval was relatively peaceful in the initial stages. The aforementioned unwieldiness and straight-forwardness of the whole of the Pomeranian population was particularly decisive for this. Then, of course, the traditional conservative opinion of the large majority of the Pomeranian population joined in. There were faltering expectations or even hopes that the conservative influence in the first coalition government would be strong enough and would remain so to prevent a unilateral, absolute Nazi regime. It was strongly held, like all over the world, that the Nazi propaganda was just the usual demagogic fight and vote clamouring of the opposition and that once the Nazis managed to get to power, would \\'cool off\\' and due to the pressures of the economic plight would set their radical plans and threats aside. Rallies, large demonstrations, victory celebrations, etc. were by 1933 mainly limited to Stettin and the few larger district towns. The countryside took little or no part in the political events. This was especially apparent on 1 April 1933, the day when Jewish businesses were boycotted. The streets of Stettin were a little busier than usual. The smaller retail stores shut early that day while the department stores on Breitenstrasse and Schulzenstrasse were far from empty. The uniformed boycott posts were at times heavily jostled. Slogans like \\'Do we not have enough unemployed workers?\\' or \\'Why do you not also boycott Karstadt, you are againstalldepartment stores after all\\' could be seen. For the Jews themselves, 1 April was, of course, a day of horror as it was right across the German Reich. Jewish barristers were barred from the courts apart from a few exceptional cases, Jewish workers were made redundant in \\'Aryan\\' businesses and Walter Darré, the Reich Minister for Food and Agriculture at the time, announced that there would soon be legal measures in place on the trade of agricultural products. These were all devastating signs of what lay in store. Individual Nazi actions, i.e. personal violence against Jewish lives, health, freedom and property were only very uncoordinated at this time. A tragic part of this action in Stettin resulted in the well-known Jewish lawyer Wilhelm Hermann, a reserve officer in the First World War and holder of Einzelkämpferlehrgang (commando course) of the 2nd class, being gutlessly run over. He was admitted to hospital with severe injuries to the back of the head. This incident was even unpleasant to Nazis, especially since the culprit’s defense stated that he had mistaken him for another Jew,  - 5 - he didn’t have anything against the victim himself. Wider \\'Aryan\\' spheres publicly sympathised with his situation, especially his former Stettin regiment and ensured that the unfortunate victim was taken to the university hospital in Greifswald and was thoroughly cared for. He came out of it with serious injuries to his health and died in England in 1944, where he managed to get to safety with his wife shortly before the outbreak of war. Unfortunately, the couple had to go a long way before landing in England as they had tried to enter Uruguay but were not admitted to the country as their German visa had been declared invalid. 2. The Night of the Long Knives, or the Röhm Revolts, in 1934 brought upheaval to Pomerania. The Gauführer of the Stormtroopers in Pomerania was shot dead, theGauleiterand the governor of Pomerania, Karpenstein, was deposed of and left Pomerania. Schwede-Coburg and his followers moved into Stettin and the province. In the time that followed it soon became clear that all important posts, especially in the German Labour Front, were taken over by Schwede-Coburg and his confidants. The fate of the Jewish corn trade was soon to be settled. Once the individual farmer was involved in debt settlement proceedings, his fate lay with the new ruling classes. He couldn’t risk that his debt settlement would be refused due to political untrustworthiness and would lose his business because of it. The cornerstone was forcing businesses to present written contractual agreements on every wholesale of agricultural products providing that a copy had to be handed into the relevant farming leader. Pomerania was not \\'finally conquered by Nazism\\' but fell to it like a ripe piece of fruit into its lap. The Jewish agricultural product trade was still able to hold on to some intermediate trade for some time but here, as in other areas, its days were numbered. 3. The fate of the rest of the Jewish population living in the province varied and cannot be recorded in a detailed manner. It all depended on the local Nazi leader. The local population in Pomerania itself was peaceful and in many places, Jewish businesses carried on as normal, even if to a limited degree, right up until the outbreak of war and the last Jews were deported eastwards in February of 1940. But in terms of migration, at least migration to the major cities, there was a constant flow especially to Berlin from around 1935, i.e. after the enactment of theNuremberg Laws. 4. In Stettin itself, after the arrival ofGauleiterand Governor Schwede-Coburg the rivalry between the old Stettin Nazis and the followers Schwede-Coburg brought along with him soon became evident. Some details of these internal conflicts even became known in Jewish spheres, who were only really interested in it as the result was that external party policies, especially against the Jews, were held back. We have concentrated on the period from the Nazis seizing power to around time theNuremberg Lawswere enacted and then on to the building up of the German economy. In this respect, we have to consider that Dr. Hjalmar Schacht, who was a prominent voice in society, warned  - 6- that economic issues should be given priority and precipitated measures against Jewish enterprise, in particular, should be stopped as quickly as possible. So this initially ushered in a fairly peaceful period, mainly for the Stettin men\\'s clothing industry but also for retail businesses serving the public. Even Jewish textile salesmen were still received by \\'Aryan\\' companies and managed to sell their goods without there being much of a difference if their suppliers were \\'Aryan\\' or Jewish. However, there was no holding back the dismissal of Jewish workers in \\'Aryan\\' companies. Of particular interest were the developments in the legal sphere in Stettin. The judiciary in Stettin was destined to be one of the disgraceful examples of the developments at the time incarnated by the director of the regional court, Schmeisser. After World War I, about 1922/23, he came to Stettin after Bydgoszcz (Bromberg) had been ceded to Poland. Due to his democratic values, he soon became known amongst the strict conservative German national judges. He had a leading role in the Pomeranian section of the Republican Magistrates’ Association and placed considerable emphasis on socially interacting with the traditional Jewish lawyer families living in Stettin at the time. The author, then a young, unmarried lawyer, met him on repeated occasions at private Jewish companies. Just after the Nazis seized power, however, he showed up wearing the GoldenNazi PartyBadge and turned out to be one of the longest-serving members of theNazi partyin the whole of Pomerania and within weeks was the President of the Stettin Regional Court. Moreover, as said, the judiciary was conservative and tried to take as little notice of the upheaval as possible. The Jewish lawyers who were still allowed to practice (lawyers from traditional families and front-line soldiers – around 16 of the 20 or so that there had been before) also did not have any difficulties in the courts. In the Stettin judiciary, only 2 of the around 100 legal practitioners openly admitted being national-socialist before 1933. These were Rüdiger Graf von der Goltz and the later Nazi Secretary of State, Stuckardt. Shortly after the radical changes of 1933, it emerged that the majority of the younger lawyers who had fought in the First World War, especially if they had only started their legal studies after 1918, had been members of theNazi partyfor a long time before 1933. At the time they were given posts in the administration such as mayors in district towns across Pomerania or became magistrates, one of them who was only just over 30, became a magistrate in the Reich Court. Some of them were content to display their party badges to advertise their practices. An older \\'Aryan\\' lawyer, who did not want to have anything to do with the Nazis, did not make a secret of the fact that it did not have a more of an adverse effect on his practice than the average Jewish colleague. The general public slowly started to \\'adapt to the reality at the time\\' without getting involved in the chaos of Nazi politics, quite simply so as not to neglect their economic interests. In this respect, it shouldn’t be overlooked that many Stettin economic groups such as the corn trade and the men’s clothing industry and the other individual industrial businesses became more heavily monitored over time. In particular, the allocation of raw materials for the textile industry slowly but surely became subject to monitoring by occupational authorities which were increasingly filled withNazi partymembers who could be relied on. The migration of the Jewish professions obviously had \\'Aryan\\' encouragement, but at first, it was still not widespread as was initially feared. TheNuremberg Lawswere then interpreted in many  - 7- \\'Aryan\\' spheres meaning that now the position of the Jews in the \\'Aryan\\' nation was pre-determined and therefore individual measures on a local level against them were inadmissible. The Jewish community itself followed the example of Jews in other parts of the Reich. A local branch of the Jewish Cultural Association was founded, a Jewish primary school established, training institutions to invest in skilled trades, and courses in foreign languages were set up, meaning that the BethChaluz(“House of Pioneers”) became significantly larger. The three Jewish sports clubs: the \"Viadrina\" rowing club, the tennis club in 1924 and Jewish gymnastics club, Bar Kochba, were free to practise their sporting activities until the autumn of 1938. It was followed by the establishment of the \"Iwna\" cooperative bank which quickly became central to small and medium-sized Jewish businesses and was energetically supported by the cooperative department of Dresdner Bank. 5. But the local economy in Stettin was far too dependent on the other parts of the Reich. The more the Jews were excluded from practising business, the harder the repercussions on Stettin were. This was especially true of the small and medium-sized clothing factories. The more retail businesses were taken from Jewish hands and handed over to \\'Aryan\\' owners or liquidated, the more and more meagre the livelihoods of the businesses in Stettin became, especially since these businesses barely had any capital reserves at their disposal. In the first half of 1937, an unstoppable liquidation of Stettin’s Jewish clothing industry could be seen, especially since the rest of the Reich ruthless propaganda incited the population \\'not to buy from Jewish manufacturers or suppliers\\'. The result was a radicalisation of even more groups in Stettin. The \\'Aryanised\\' Jewish businesses in Stettin often did not achieve their expectations. In many cases, the \\'Aryan\\' customers of their Jewish predecessors switched to other suppliers. Many had imagined it to be too easy to simply slip into warm Jewish beds and reap the rewards of years of Jewish hard work and achievements without putting in the minimum of effort themselves. Those who could calmly prepared to emigrate, if possible in Berlin and completed the sale of their business once their emigration from Berlin was imminent. This relatively peaceful process of settling and liquidating Jewish businesses went on during the period up until the catastrophic events of the second half of 1938. After the events of the Night of Broken Glass or \\'Kristallnacht\\' on 9 November 1938, the motto \\'save yourselves if you can\\' spread around Stettin and the province of Pomerania. 6. Sadly life within the Jewish community did not remain entirely free of shocks. Near the end of 1938, the permanent legal counsels to the Central Association of German Citizens of Jewish Faith (CV), Otto Michelsohn, and Gustav Brandt, one of the two board members of the Iwna bank G.m.b.H from Stettin, suddenly disappeared. At first, there were obviously the wildest of rumours flying around about the embezzlement of Jewish money, which turned out to be unfounded. Both of the men had helped one of the leading lawyers in Stettin in 1935 to transfer a package of Swiss bonds out of the country. The affair was officially uncovered and cost the lawyer his life though he didn’t give away the identities of his helpers. The case was forgotten until 1938 when the widow of the lawyer, who still lived in Germany at that time, deceived by Hitler’s amnesty law tried to retrieve the bonds - 8 - which had supposedly been deposited in a foreign account. The two men then had to admit that they had cleared the foreign account, divided the bonds up between them and used them up meaning that they had to leave Germany as quickly as possible before the lawyer’s widow pressed for charges. 7. A certain figure whose significance cannot be fully clarified and who played a key role in the lives of the Pomeranian Jews in the second half of 1938 up until rest of the Jews living in the area were deported eastwards in February 1940. Paul Hirschfeld was born and bred in Stettin. Up until that point, he had not played a role in public life, professionally or socially. All of a sudden, he presented himself as being as theGestapo’s liaison man, especially on matters of Jewish emigration. It was very quickly forbidden to call him a ‘representative of theGestapo’ but he ensured that as ‘a representative of the Jewish community in Stettin on emigration matters’ he obtained a special position. In this position, he transported Jews to Shanghai on a steamboat specially chartered for this purpose with other Jews from Central Germany and even from Austria. After the Night of Broken Glass, or ‘Kristallnacht’ in November 1938, he campaigned for the speedy release of Stettin and Pomeranian Jews from theOranienburg-Sachsenhausenconcentration camp and then helped them to finally emigrate. However, he was curt and inconsiderate towards some Jews if he thought that they did not donate enough money voluntarily to help out their fellow Jews and, if possible, to help them go abroad. But the accusation that he was some kind ofGestapoinformer would be going too far. After the war broke out, he himself, as far as can be remembered, was deported eastwards by the Nazis and has been missing ever since. The province of Pomerania was given its harshest blow with the killing of businessman Leo Levy of the Ascher Levy co. in Bad Polzin who lost his life during the Night of Broken Glass in 1938. The culprit, who was wearing a brown uniform with a gun slung over his shoulder, was seen going into his house, a shot was heard and then the culprit was seen calmly leaving the house again. All subsequent investigations were all unsuccessful. In February 1940, the fate of the Jews of Stettin and the province of Pomerania came to pass. Without paying any considerations to age or sex, the Jews were deported eastwards (to Lublin and the surrounding area). Schwede-Coburg was then able to report to his Führer that the Baltic Sea coast was free of Jews and that lodgings were available for troops looking to invade Scandinavia. (C)Individual cases I would like to mention two individuals to be given a full subsequent honorary recognition: Both had the following in common:  - 9 - With my colleague Friendländer, it is best if I compare him to his contemporary, Lippman, the Governor of Pomerania. The latter was certainly also a worthy human being and of impeccable moral character and due to later historiography was given the credit he deserved due to his prestige. But he was in a centre /moderate left political position and was often unable to keep the objectivity which a man in his position required in order to gain general respect. I myself, besides my legal career, was the salaried syndic from 1924 to 1933 for the Pomeranian section of the German Potato Trader Association which the major corn trade companies were obviously affiliated with. Through this I was personally acquainted with and friendly with the corn trading companies mentioned beforehand or their owners. More than once we had serious meetings in my office or at one of the corn trader’s offices to fight against Lippmann’s unilateral decrees on land reform without the shameful display of Jew fighting Jew occurring[1]. Dr. Friedländer was very different. As already mentioned, he was an official who stood above party affairs. I would ask him himself about the particulars. He was the permanent representative of the regional president and, moreover, was the official mediator in collective labour disputes. And especially in this post he gained a lot of personal respect and towards Jews in general due to his superior intellect, his unwavering objectivity and tranquil and dignified negotiation skills in even the most radical of workers’ groups. Dr. Markuse who has passed away and was the Chairman of the Stettin and Pomeranian Central Association of German Citizens of Jewish Faith (CV) was very impressed by him. I myself as a young lawyer often bumped into Dr. Markuse together with Mr and Mrs Friedländer. And when the daily newspapers reported on the amicable settlement of impending serious labour disputes, Dr. Markuse used to say: ‘quite a feat that is, Friedländer!’ Dr. Crohn: He was around 5-8 years younger than me. I grew up in Bollwerk and grew up to become a true son of Bollwerk. It was not easy before nor after 1933 to be left at peace as a ‘white collar’ man in the turbulent docklands. Therefore, you can imagine what a single person would have to show and achieve in order to get such a level of respect amongst the general masses as Dr. Cohn did. The boathouse of our rowing club, the ‘Viadrina’ was only about 5 minutes from my parents’ house and sometimes - 10 - on the way home I would make a detour through our old ‘home’. I had two conversations, well after 1933 and both of them with men in S.A. uniforms. The first of which went: ‘Could you please tell me where Dr. Cohn lives?’ ‘Do you mean our Jesus of Bollwerk? He lives…’ The second conversation was with a stormtrooper, SA, and son of one of my contemporaries who worked as a machine fitter. ‘Don’t you worry about our saviour of Bollwerk because the healthinsurancecompanies have withdrawn. All SA members will give him their share of their savings if needs be. But that has not been necessary yet as we send all of our people to him with the instructions of either paying him or taking him something to eat.’ Just that one person was capable of there being practically no real antisemitism in the docklands. Our spiritual leaders Dr. Ernst Alban [1]In rural spheres, the phrase: ‘We owe that to the Jew Lippmann\\' was unfortunately widespread.')]]"
      ]
     },
     "execution_count": 242,
     "metadata": {},
     "output_type": "execute_result"
    }
   ],
   "source": [
    "# # TEST output\n",
    "# len(eyewitness_data)\n",
    "# eyewitness_data[:1]"
   ]
  },
  {
   "cell_type": "code",
   "execution_count": 55,
   "metadata": {},
   "outputs": [
    {
     "name": "stderr",
     "output_type": "stream",
     "text": [
      "/var/folders/3q/0f9bqcgn3lg9b61gvs47l33r0000gn/T/ipykernel_25488/3225529851.py:25: DeprecationWarning: The 'text' argument to find()-type methods is deprecated. Use 'string' instead.\n",
      "  bullet_text_sibling = bullet_name.find_next_sibling(text=True)\n"
     ]
    }
   ],
   "source": [
    "# # PUTTING IT ALL TOGETHER!\n",
    "# # Export to pickle as data is collected\n",
    "# eyewitness_data = []\n",
    "\n",
    "# # Open the pickle file in append mode\n",
    "# with open('text_data_TEST.pkl', 'ab') as file:\n",
    "#     # Generate data\n",
    "\n",
    "#     for url in urls_to_visit[3:6]:\n",
    "#         response = requests.get(url)\n",
    "\n",
    "#         if response.status_code == 200:\n",
    "#             soup = BeautifulSoup(response.content, 'html.parser')\n",
    "\n",
    "#             metadata_text = get_metadata_text(soup)\n",
    "\n",
    "#             main_text = get_main_text(soup)\n",
    "\n",
    "#         # Since metadata_text is a list, append main_text to metadata_text, and \n",
    "#         # append both to new list\n",
    "#         metadata_text.append(main_text)\n",
    "#         eyewitness_data.append(metadata_text)\n",
    "\n",
    "#     pickle.dump(metadata_text, file)"
   ]
  },
  {
   "cell_type": "code",
   "execution_count": null,
   "metadata": {},
   "outputs": [],
   "source": [
    "# print(len(eyewitness_data))\n",
    "# eyewitness_data"
   ]
  },
  {
   "cell_type": "code",
   "execution_count": 30,
   "metadata": {},
   "outputs": [
    {
     "name": "stderr",
     "output_type": "stream",
     "text": [
      "  0%|          | 0/207 [00:00<?, ?it/s]/var/folders/3q/0f9bqcgn3lg9b61gvs47l33r0000gn/T/ipykernel_2562/3085350238.py:28: DeprecationWarning: The 'text' argument to find()-type methods is deprecated. Use 'string' instead.\n",
      "  bullet_text_sibling = bullet_name.find_next_sibling(text=True)\n",
      "100%|██████████| 207/207 [1:03:09<00:00, 18.31s/it]\n"
     ]
    }
   ],
   "source": [
    "# NEW & Timed\n",
    "from tqdm import tqdm\n",
    "\n",
    "def save_to_pickle(data, filename):\n",
    "    with open(filename, 'ab') as file:\n",
    "        pickle.dump(data, file)\n",
    "\n",
    "eyewitness_data = []\n",
    "# Use tqdm to create a progress bar\n",
    "with tqdm(total=len(urls_to_visit[514:])) as pbar:\n",
    "    for url in urls_to_visit[514:]:\n",
    "        response = requests.get(url)\n",
    "\n",
    "        if response.status_code == 200:\n",
    "            soup = BeautifulSoup(response.content, 'html.parser')\n",
    "\n",
    "            metadata_text = get_metadata_text(soup)\n",
    "\n",
    "            main_text = get_main_text(soup)\n",
    "\n",
    "            # Since metadata_text is a list, append main_text to metadata_text, and \n",
    "            # append both to new list\n",
    "            metadata_text.append(main_text)\n",
    "            eyewitness_data.append(metadata_text)\n",
    "\n",
    "        # Update the progress bar\n",
    "        pbar.update(1)\n",
    "\n",
    "for inner_list in eyewitness_data:\n",
    "    save_to_pickle(inner_list, 'eyewitness_testimonies_514_to_end.pickle')"
   ]
  },
  {
   "cell_type": "code",
   "execution_count": 31,
   "metadata": {},
   "outputs": [
    {
     "data": {
      "text/plain": [
       "207"
      ]
     },
     "execution_count": 31,
     "metadata": {},
     "output_type": "execute_result"
    }
   ],
   "source": [
    "len(eyewitness_data)"
   ]
  },
  {
   "cell_type": "code",
   "execution_count": 28,
   "metadata": {},
   "outputs": [],
   "source": [
    "# for inner_list in eyewitness_data:\n",
    "#     save_to_pickle(inner_list, 'eyewitness_testimonies_514_to_end.pickle')"
   ]
  },
  {
   "cell_type": "markdown",
   "metadata": {},
   "source": [
    "# Combine & make complete raw Eyewitness data"
   ]
  },
  {
   "cell_type": "code",
   "execution_count": 48,
   "metadata": {},
   "outputs": [],
   "source": [
    "import pandas as pd\n",
    "import pickle"
   ]
  },
  {
   "cell_type": "code",
   "execution_count": 34,
   "metadata": {},
   "outputs": [],
   "source": [
    "# Load pickles 2\n",
    "def load_pickle_file(pickle_file_path, loaded_data):\n",
    "    '''\n",
    "    Load data from a pickle file and append it to the list loaded_data.\n",
    "    \n",
    "    Inputs:\n",
    "        pickle_file_path (str): Path to the pickle file\n",
    "        loaded_data (list): List to store the loaded data\n",
    "        \n",
    "    Returns: None\n",
    "    '''\n",
    "    # Open the pickle file in read-binary mode\n",
    "    with open(pickle_file_path, 'rb') as file:\n",
    "        # Load the data from the pickle file\n",
    "        while True:\n",
    "            try:\n",
    "                # Load each object from the pickle file and append it to the list\n",
    "                loaded_data.append(pickle.load(file))\n",
    "            except EOFError:\n",
    "                # Exit the loop when the end of the file is reached\n",
    "                break\n",
    "\n",
    "# Specify the paths to your pickle files\n",
    "pickle_file_paths = ['eyewitness_testimonies_44.pickle',\n",
    "                     'eyewitness_testimonies_44_to_131.pickle', \n",
    "                     'eyewitness_testimonies_131_to_242.pickle',\n",
    "                     'eyewitness_testimonies_242_to_296.pickle',\n",
    "                     'eyewitness_testimonies_297_to_315.pickle',\n",
    "                     'eyewitness_testimonies_316_to_514.pickle',\n",
    "                     'eyewitness_testimonies_514_to_end.pickle'\n",
    "                     ]\n",
    "\n",
    "# Initialize an empty list to store all the loaded data\n",
    "loaded_data = []\n",
    "\n",
    "# Load data from each pickle file and append it to loaded_data\n",
    "for pickle_file_path in pickle_file_paths:\n",
    "    load_pickle_file(pickle_file_path, loaded_data)"
   ]
  },
  {
   "cell_type": "code",
   "execution_count": null,
   "metadata": {},
   "outputs": [],
   "source": [
    "# Display the loaded data\n",
    "print(len(loaded_data))\n",
    "loaded_data"
   ]
  },
  {
   "cell_type": "code",
   "execution_count": 41,
   "metadata": {},
   "outputs": [],
   "source": [
    "# Turn list of lists of tuples into DF\n",
    "eyewitness_all_data = pd.DataFrame([dict(row) for row in loaded_data])"
   ]
  },
  {
   "cell_type": "code",
   "execution_count": 44,
   "metadata": {},
   "outputs": [
    {
     "data": {
      "text/html": [
       "<div>\n",
       "<style scoped>\n",
       "    .dataframe tbody tr th:only-of-type {\n",
       "        vertical-align: middle;\n",
       "    }\n",
       "\n",
       "    .dataframe tbody tr th {\n",
       "        vertical-align: top;\n",
       "    }\n",
       "\n",
       "    .dataframe thead th {\n",
       "        text-align: right;\n",
       "    }\n",
       "</style>\n",
       "<table border=\"1\" class=\"dataframe\">\n",
       "  <thead>\n",
       "    <tr style=\"text-align: right;\">\n",
       "      <th></th>\n",
       "      <th>Index Number</th>\n",
       "      <th>Title of Document</th>\n",
       "      <th>Date</th>\n",
       "      <th>Number of pages</th>\n",
       "      <th>Author of Source</th>\n",
       "      <th>Recorded by</th>\n",
       "      <th>References</th>\n",
       "      <th>Form and Contents</th>\n",
       "      <th>Text</th>\n",
       "      <th>Author or Source</th>\n",
       "      <th>...</th>\n",
       "      <th>Recoded by</th>\n",
       "      <th>Remarks :</th>\n",
       "      <th>Remark by the analyst</th>\n",
       "      <th>Remarks by analyst and further references</th>\n",
       "      <th>Contents and Form</th>\n",
       "      <th>Form and Contrats</th>\n",
       "      <th>index Number</th>\n",
       "      <th>Recorded :</th>\n",
       "      <th>Recorded:</th>\n",
       "      <th>Title of document :</th>\n",
       "    </tr>\n",
       "  </thead>\n",
       "  <tbody>\n",
       "    <tr>\n",
       "      <th>count</th>\n",
       "      <td>700</td>\n",
       "      <td>692</td>\n",
       "      <td>684</td>\n",
       "      <td>514</td>\n",
       "      <td>14</td>\n",
       "      <td>553</td>\n",
       "      <td>163</td>\n",
       "      <td>684</td>\n",
       "      <td>721</td>\n",
       "      <td>650</td>\n",
       "      <td>...</td>\n",
       "      <td>1</td>\n",
       "      <td>1</td>\n",
       "      <td>1</td>\n",
       "      <td>1</td>\n",
       "      <td>1</td>\n",
       "      <td>1</td>\n",
       "      <td>1</td>\n",
       "      <td>1</td>\n",
       "      <td>1</td>\n",
       "      <td>1</td>\n",
       "    </tr>\n",
       "    <tr>\n",
       "      <th>unique</th>\n",
       "      <td>680</td>\n",
       "      <td>625</td>\n",
       "      <td>420</td>\n",
       "      <td>58</td>\n",
       "      <td>14</td>\n",
       "      <td>318</td>\n",
       "      <td>150</td>\n",
       "      <td>676</td>\n",
       "      <td>717</td>\n",
       "      <td>558</td>\n",
       "      <td>...</td>\n",
       "      <td>1</td>\n",
       "      <td>1</td>\n",
       "      <td>1</td>\n",
       "      <td>1</td>\n",
       "      <td>1</td>\n",
       "      <td>1</td>\n",
       "      <td>1</td>\n",
       "      <td>1</td>\n",
       "      <td>1</td>\n",
       "      <td>1</td>\n",
       "    </tr>\n",
       "    <tr>\n",
       "      <th>top</th>\n",
       "      <td>P.III.h. (</td>\n",
       "      <td></td>\n",
       "      <td></td>\n",
       "      <td>3</td>\n",
       "      <td>Dr. Ernst Alban</td>\n",
       "      <td>as above</td>\n",
       "      <td></td>\n",
       "      <td></td>\n",
       "      <td></td>\n",
       "      <td>Anonymous</td>\n",
       "      <td>...</td>\n",
       "      <td></td>\n",
       "      <td>This report is copied from the original photo-...</td>\n",
       "      <td>Josef Klaber, a Jew, was the founder of the Gh...</td>\n",
       "      <td>The author of this report is the descendant of...</td>\n",
       "      <td>A statement by the author who was an eyewitnes...</td>\n",
       "      <td>A personal report by the composer R. H. on his...</td>\n",
       "      <td>P.III.i. (Sweden) No. 465</td>\n",
       "      <td>May 1957</td>\n",
       "      <td>Melbourne, 12 March 1957</td>\n",
       "      <td>Wartime Conditions in Indonesia</td>\n",
       "    </tr>\n",
       "    <tr>\n",
       "      <th>freq</th>\n",
       "      <td>17</td>\n",
       "      <td>38</td>\n",
       "      <td>30</td>\n",
       "      <td>73</td>\n",
       "      <td>1</td>\n",
       "      <td>78</td>\n",
       "      <td>13</td>\n",
       "      <td>7</td>\n",
       "      <td>4</td>\n",
       "      <td>46</td>\n",
       "      <td>...</td>\n",
       "      <td>1</td>\n",
       "      <td>1</td>\n",
       "      <td>1</td>\n",
       "      <td>1</td>\n",
       "      <td>1</td>\n",
       "      <td>1</td>\n",
       "      <td>1</td>\n",
       "      <td>1</td>\n",
       "      <td>1</td>\n",
       "      <td>1</td>\n",
       "    </tr>\n",
       "  </tbody>\n",
       "</table>\n",
       "<p>4 rows × 109 columns</p>\n",
       "</div>"
      ],
      "text/plain": [
       "       Index Number Title of Document Date Number of pages Author of Source  \\\n",
       "count           700               692  684             514               14   \n",
       "unique          680               625  420              58               14   \n",
       "top      P.III.h. (                                      3  Dr. Ernst Alban   \n",
       "freq             17                38   30              73                1   \n",
       "\n",
       "       Recorded by References Form and Contents Text Author or Source  ...  \\\n",
       "count          553        163               684  721              650  ...   \n",
       "unique         318        150               676  717              558  ...   \n",
       "top       as above                                          Anonymous  ...   \n",
       "freq            78         13                 7    4               46  ...   \n",
       "\n",
       "       Recoded by                                          Remarks :  \\\n",
       "count           1                                                  1   \n",
       "unique          1                                                  1   \n",
       "top                This report is copied from the original photo-...   \n",
       "freq            1                                                  1   \n",
       "\n",
       "                                    Remark by the analyst  \\\n",
       "count                                                   1   \n",
       "unique                                                  1   \n",
       "top     Josef Klaber, a Jew, was the founder of the Gh...   \n",
       "freq                                                    1   \n",
       "\n",
       "                Remarks by analyst and further references  \\\n",
       "count                                                   1   \n",
       "unique                                                  1   \n",
       "top     The author of this report is the descendant of...   \n",
       "freq                                                    1   \n",
       "\n",
       "                                        Contents and Form  \\\n",
       "count                                                   1   \n",
       "unique                                                  1   \n",
       "top     A statement by the author who was an eyewitnes...   \n",
       "freq                                                    1   \n",
       "\n",
       "                                        Form and Contrats  \\\n",
       "count                                                   1   \n",
       "unique                                                  1   \n",
       "top     A personal report by the composer R. H. on his...   \n",
       "freq                                                    1   \n",
       "\n",
       "                     index Number Recorded :                 Recorded:  \\\n",
       "count                           1          1                         1   \n",
       "unique                          1          1                         1   \n",
       "top     P.III.i. (Sweden) No. 465   May 1957  Melbourne, 12 March 1957   \n",
       "freq                            1          1                         1   \n",
       "\n",
       "                    Title of document :  \n",
       "count                                 1  \n",
       "unique                                1  \n",
       "top     Wartime Conditions in Indonesia  \n",
       "freq                                  1  \n",
       "\n",
       "[4 rows x 109 columns]"
      ]
     },
     "execution_count": 44,
     "metadata": {},
     "output_type": "execute_result"
    }
   ],
   "source": [
    "eyewitness_all_data.describe()"
   ]
  },
  {
   "cell_type": "code",
   "execution_count": 45,
   "metadata": {},
   "outputs": [],
   "source": [
    "# Drop duplicates, leaving us with 717 unique texts! \n",
    "eyewitness_all_data = eyewitness_all_data.drop_duplicates(subset = ['Text'])"
   ]
  },
  {
   "cell_type": "code",
   "execution_count": 47,
   "metadata": {},
   "outputs": [
    {
     "data": {
      "text/plain": [
       "(717, 109)"
      ]
     },
     "execution_count": 47,
     "metadata": {},
     "output_type": "execute_result"
    }
   ],
   "source": [
    "eyewitness_all_data.shape"
   ]
  },
  {
   "cell_type": "code",
   "execution_count": 61,
   "metadata": {},
   "outputs": [
    {
     "data": {
      "text/html": [
       "<div>\n",
       "<style scoped>\n",
       "    .dataframe tbody tr th:only-of-type {\n",
       "        vertical-align: middle;\n",
       "    }\n",
       "\n",
       "    .dataframe tbody tr th {\n",
       "        vertical-align: top;\n",
       "    }\n",
       "\n",
       "    .dataframe thead th {\n",
       "        text-align: right;\n",
       "    }\n",
       "</style>\n",
       "<table border=\"1\" class=\"dataframe\">\n",
       "  <thead>\n",
       "    <tr style=\"text-align: right;\">\n",
       "      <th></th>\n",
       "      <th>Index Number</th>\n",
       "      <th>Title of Document</th>\n",
       "      <th>Date</th>\n",
       "      <th>Number of pages</th>\n",
       "      <th>Author of Source</th>\n",
       "      <th>Recorded by</th>\n",
       "      <th>References</th>\n",
       "      <th>Form and Contents</th>\n",
       "      <th>Text</th>\n",
       "      <th>Author or Source</th>\n",
       "      <th>...</th>\n",
       "      <th>Recoded by</th>\n",
       "      <th>Remarks :</th>\n",
       "      <th>Remark by the analyst</th>\n",
       "      <th>Remarks by analyst and further references</th>\n",
       "      <th>Contents and Form</th>\n",
       "      <th>Form and Contrats</th>\n",
       "      <th>index Number</th>\n",
       "      <th>Recorded :</th>\n",
       "      <th>Recorded:</th>\n",
       "      <th>Title of document :</th>\n",
       "    </tr>\n",
       "  </thead>\n",
       "  <tbody>\n",
       "    <tr>\n",
       "      <th>0</th>\n",
       "      <td>P.I.a. No. 62</td>\n",
       "      <td>The Jews in Pomerania</td>\n",
       "      <td></td>\n",
       "      <td>10</td>\n",
       "      <td>Dr. Ernst Alban</td>\n",
       "      <td>as above, March 1955</td>\n",
       "      <td>Rabbiner Dr. Elk, Rabbiner Dr. Vogelstein, Rab...</td>\n",
       "      <td>A report (in two parts: A. The Jews in Pomeran...</td>\n",
       "      <td>The Jews in Pomerania I, Dr. Ernst Alban, here...</td>\n",
       "      <td>NaN</td>\n",
       "      <td>...</td>\n",
       "      <td>NaN</td>\n",
       "      <td>NaN</td>\n",
       "      <td>NaN</td>\n",
       "      <td>NaN</td>\n",
       "      <td>NaN</td>\n",
       "      <td>NaN</td>\n",
       "      <td>NaN</td>\n",
       "      <td>NaN</td>\n",
       "      <td>NaN</td>\n",
       "      <td>NaN</td>\n",
       "    </tr>\n",
       "    <tr>\n",
       "      <th>1</th>\n",
       "      <td>P.I.a. No. 115</td>\n",
       "      <td>Reminiscences Regarding the Youth of Dr. Josep...</td>\n",
       "      <td>NaN</td>\n",
       "      <td>1</td>\n",
       "      <td>Dr. Johnston</td>\n",
       "      <td>Dr. Berent, July 1955</td>\n",
       "      <td>Dr. Friedrich Gundolf (Germanist); Rheydt, Rhi...</td>\n",
       "      <td>A few - not very significant - recollections o...</td>\n",
       "      <td>Reminiscences Regarding the Youth of Dr. Josep...</td>\n",
       "      <td>NaN</td>\n",
       "      <td>...</td>\n",
       "      <td>NaN</td>\n",
       "      <td>NaN</td>\n",
       "      <td>NaN</td>\n",
       "      <td>NaN</td>\n",
       "      <td>NaN</td>\n",
       "      <td>NaN</td>\n",
       "      <td>NaN</td>\n",
       "      <td>NaN</td>\n",
       "      <td>NaN</td>\n",
       "      <td>NaN</td>\n",
       "    </tr>\n",
       "  </tbody>\n",
       "</table>\n",
       "<p>2 rows × 109 columns</p>\n",
       "</div>"
      ],
      "text/plain": [
       "     Index Number                                  Title of Document Date  \\\n",
       "0   P.I.a. No. 62                              The Jews in Pomerania        \n",
       "1  P.I.a. No. 115  Reminiscences Regarding the Youth of Dr. Josep...  NaN   \n",
       "\n",
       "  Number of pages Author of Source            Recorded by  \\\n",
       "0              10  Dr. Ernst Alban   as above, March 1955   \n",
       "1               1     Dr. Johnston  Dr. Berent, July 1955   \n",
       "\n",
       "                                          References  \\\n",
       "0  Rabbiner Dr. Elk, Rabbiner Dr. Vogelstein, Rab...   \n",
       "1  Dr. Friedrich Gundolf (Germanist); Rheydt, Rhi...   \n",
       "\n",
       "                                   Form and Contents  \\\n",
       "0  A report (in two parts: A. The Jews in Pomeran...   \n",
       "1  A few - not very significant - recollections o...   \n",
       "\n",
       "                                                Text Author or Source  ...  \\\n",
       "0  The Jews in Pomerania I, Dr. Ernst Alban, here...              NaN  ...   \n",
       "1  Reminiscences Regarding the Youth of Dr. Josep...              NaN  ...   \n",
       "\n",
       "  Recoded by Remarks : Remark by the analyst  \\\n",
       "0        NaN       NaN                   NaN   \n",
       "1        NaN       NaN                   NaN   \n",
       "\n",
       "  Remarks by analyst and further references Contents and Form  \\\n",
       "0                                       NaN               NaN   \n",
       "1                                       NaN               NaN   \n",
       "\n",
       "  Form and Contrats index Number Recorded : Recorded: Title of document :  \n",
       "0               NaN          NaN        NaN       NaN                 NaN  \n",
       "1               NaN          NaN        NaN       NaN                 NaN  \n",
       "\n",
       "[2 rows x 109 columns]"
      ]
     },
     "execution_count": 61,
     "metadata": {},
     "output_type": "execute_result"
    }
   ],
   "source": [
    "eyewitness_all_data[:2]"
   ]
  },
  {
   "cell_type": "code",
   "execution_count": 54,
   "metadata": {},
   "outputs": [],
   "source": [
    "# Save\n",
    "# eyewitness_all_data.to_csv(\"eyewitness_all_data.csv\", header=True, index=False)"
   ]
  },
  {
   "cell_type": "code",
   "execution_count": 55,
   "metadata": {},
   "outputs": [],
   "source": [
    "# Read in\n",
    "# test = pd.read_csv(\"eyewitness_all_data.csv\")"
   ]
  },
  {
   "cell_type": "markdown",
   "metadata": {},
   "source": [
    "#### Test"
   ]
  },
  {
   "cell_type": "code",
   "execution_count": 2,
   "metadata": {},
   "outputs": [],
   "source": [
    "import pandas as pd"
   ]
  },
  {
   "cell_type": "code",
   "execution_count": 4,
   "metadata": {},
   "outputs": [],
   "source": [
    "test = pd.read_csv('/Users/ez/Desktop/text_memory_and_identity/data collection/eyewitness_testimonies_subcollection/eyewitness_all_data.csv')"
   ]
  },
  {
   "cell_type": "code",
   "execution_count": 5,
   "metadata": {},
   "outputs": [
    {
     "data": {
      "text/html": [
       "<div>\n",
       "<style scoped>\n",
       "    .dataframe tbody tr th:only-of-type {\n",
       "        vertical-align: middle;\n",
       "    }\n",
       "\n",
       "    .dataframe tbody tr th {\n",
       "        vertical-align: top;\n",
       "    }\n",
       "\n",
       "    .dataframe thead th {\n",
       "        text-align: right;\n",
       "    }\n",
       "</style>\n",
       "<table border=\"1\" class=\"dataframe\">\n",
       "  <thead>\n",
       "    <tr style=\"text-align: right;\">\n",
       "      <th></th>\n",
       "      <th>Index Number</th>\n",
       "      <th>Title of Document</th>\n",
       "      <th>Date</th>\n",
       "      <th>Number of pages</th>\n",
       "      <th>Author of Source</th>\n",
       "      <th>Recorded by</th>\n",
       "      <th>References</th>\n",
       "      <th>Form and Contents</th>\n",
       "      <th>Text</th>\n",
       "      <th>Author or Source</th>\n",
       "      <th>...</th>\n",
       "      <th>Recoded by</th>\n",
       "      <th>Remarks :</th>\n",
       "      <th>Remark by the analyst</th>\n",
       "      <th>Remarks by analyst and further references</th>\n",
       "      <th>Contents and Form</th>\n",
       "      <th>Form and Contrats</th>\n",
       "      <th>index Number</th>\n",
       "      <th>Recorded :</th>\n",
       "      <th>Recorded:</th>\n",
       "      <th>Title of document :</th>\n",
       "    </tr>\n",
       "  </thead>\n",
       "  <tbody>\n",
       "    <tr>\n",
       "      <th>0</th>\n",
       "      <td>P.I.a. No. 62</td>\n",
       "      <td>The Jews in Pomerania</td>\n",
       "      <td>NaN</td>\n",
       "      <td>10</td>\n",
       "      <td>Dr. Ernst Alban</td>\n",
       "      <td>as above, March 1955</td>\n",
       "      <td>Rabbiner Dr. Elk, Rabbiner Dr. Vogelstein, Rab...</td>\n",
       "      <td>A report (in two parts: A. The Jews in Pomeran...</td>\n",
       "      <td>The Jews in Pomerania I, Dr. Ernst Alban, here...</td>\n",
       "      <td>NaN</td>\n",
       "      <td>...</td>\n",
       "      <td>NaN</td>\n",
       "      <td>NaN</td>\n",
       "      <td>NaN</td>\n",
       "      <td>NaN</td>\n",
       "      <td>NaN</td>\n",
       "      <td>NaN</td>\n",
       "      <td>NaN</td>\n",
       "      <td>NaN</td>\n",
       "      <td>NaN</td>\n",
       "      <td>NaN</td>\n",
       "    </tr>\n",
       "    <tr>\n",
       "      <th>1</th>\n",
       "      <td>P.I.a. No. 115</td>\n",
       "      <td>Reminiscences Regarding the Youth of Dr. Josep...</td>\n",
       "      <td>NaN</td>\n",
       "      <td>1</td>\n",
       "      <td>Dr. Johnston</td>\n",
       "      <td>Dr. Berent, July 1955</td>\n",
       "      <td>Dr. Friedrich Gundolf (Germanist); Rheydt, Rhi...</td>\n",
       "      <td>A few - not very significant - recollections o...</td>\n",
       "      <td>Reminiscences Regarding the Youth of Dr. Josep...</td>\n",
       "      <td>NaN</td>\n",
       "      <td>...</td>\n",
       "      <td>NaN</td>\n",
       "      <td>NaN</td>\n",
       "      <td>NaN</td>\n",
       "      <td>NaN</td>\n",
       "      <td>NaN</td>\n",
       "      <td>NaN</td>\n",
       "      <td>NaN</td>\n",
       "      <td>NaN</td>\n",
       "      <td>NaN</td>\n",
       "      <td>NaN</td>\n",
       "    </tr>\n",
       "  </tbody>\n",
       "</table>\n",
       "<p>2 rows × 109 columns</p>\n",
       "</div>"
      ],
      "text/plain": [
       "     Index Number                                  Title of Document Date  \\\n",
       "0   P.I.a. No. 62                              The Jews in Pomerania  NaN   \n",
       "1  P.I.a. No. 115  Reminiscences Regarding the Youth of Dr. Josep...  NaN   \n",
       "\n",
       "  Number of pages Author of Source            Recorded by  \\\n",
       "0              10  Dr. Ernst Alban   as above, March 1955   \n",
       "1               1     Dr. Johnston  Dr. Berent, July 1955   \n",
       "\n",
       "                                          References  \\\n",
       "0  Rabbiner Dr. Elk, Rabbiner Dr. Vogelstein, Rab...   \n",
       "1  Dr. Friedrich Gundolf (Germanist); Rheydt, Rhi...   \n",
       "\n",
       "                                   Form and Contents  \\\n",
       "0  A report (in two parts: A. The Jews in Pomeran...   \n",
       "1  A few - not very significant - recollections o...   \n",
       "\n",
       "                                                Text Author or Source  ...  \\\n",
       "0  The Jews in Pomerania I, Dr. Ernst Alban, here...              NaN  ...   \n",
       "1  Reminiscences Regarding the Youth of Dr. Josep...              NaN  ...   \n",
       "\n",
       "  Recoded by Remarks : Remark by the analyst  \\\n",
       "0        NaN       NaN                   NaN   \n",
       "1        NaN       NaN                   NaN   \n",
       "\n",
       "  Remarks by analyst and further references Contents and Form  \\\n",
       "0                                       NaN               NaN   \n",
       "1                                       NaN               NaN   \n",
       "\n",
       "   Form and Contrats index Number Recorded : Recorded: Title of document :  \n",
       "0                NaN          NaN        NaN       NaN                 NaN  \n",
       "1                NaN          NaN        NaN       NaN                 NaN  \n",
       "\n",
       "[2 rows x 109 columns]"
      ]
     },
     "execution_count": 5,
     "metadata": {},
     "output_type": "execute_result"
    }
   ],
   "source": [
    "test.shape\n",
    "test[:2]"
   ]
  },
  {
   "cell_type": "code",
   "execution_count": 6,
   "metadata": {},
   "outputs": [],
   "source": [
    "from collections import Counter"
   ]
  },
  {
   "cell_type": "code",
   "execution_count": 7,
   "metadata": {},
   "outputs": [],
   "source": [
    "def gen_avg_num_chrs(df):\n",
    "    total_characters = df['Text'].str.len().sum()\n",
    "    num_cells = len(df)\n",
    "    return total_characters / num_cells"
   ]
  },
  {
   "cell_type": "code",
   "execution_count": 8,
   "metadata": {},
   "outputs": [
    {
     "data": {
      "text/plain": [
       "14757.87029288703"
      ]
     },
     "execution_count": 8,
     "metadata": {},
     "output_type": "execute_result"
    }
   ],
   "source": [
    "gen_avg_num_chrs(test)"
   ]
  },
  {
   "cell_type": "markdown",
   "metadata": {},
   "source": [
    "#### Count chr num for abstracts"
   ]
  },
  {
   "cell_type": "code",
   "execution_count": 9,
   "metadata": {},
   "outputs": [],
   "source": [
    "test_abs = pd.read_csv('/Users/ez/Desktop/text_memory_and_identity/data collection/s2orc_abstracts_subcollection/abstracts_all_data.csv')"
   ]
  },
  {
   "cell_type": "code",
   "execution_count": 13,
   "metadata": {},
   "outputs": [
    {
     "data": {
      "text/plain": [
       "(766, 3)"
      ]
     },
     "execution_count": 13,
     "metadata": {},
     "output_type": "execute_result"
    }
   ],
   "source": [
    "test_abs.shape\n",
    "# test_abs[:2]"
   ]
  },
  {
   "cell_type": "code",
   "execution_count": 11,
   "metadata": {},
   "outputs": [],
   "source": [
    "def gen_avg_num_chrs(df):\n",
    "    total_characters = df['abstract'].str.len().sum()\n",
    "    num_cells = len(df)\n",
    "    return total_characters / num_cells"
   ]
  },
  {
   "cell_type": "code",
   "execution_count": 12,
   "metadata": {},
   "outputs": [
    {
     "data": {
      "text/plain": [
       "1703.7232375979113"
      ]
     },
     "execution_count": 12,
     "metadata": {},
     "output_type": "execute_result"
    }
   ],
   "source": [
    "gen_avg_num_chrs(test_abs)"
   ]
  }
 ],
 "metadata": {
  "kernelspec": {
   "display_name": "py3114",
   "language": "python",
   "name": "py3114"
  },
  "language_info": {
   "codemirror_mode": {
    "name": "ipython",
    "version": 3
   },
   "file_extension": ".py",
   "mimetype": "text/x-python",
   "name": "python",
   "nbconvert_exporter": "python",
   "pygments_lexer": "ipython3",
   "version": "3.11.4"
  }
 },
 "nbformat": 4,
 "nbformat_minor": 2
}
